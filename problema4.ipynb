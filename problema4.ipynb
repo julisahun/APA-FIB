{
 "cells": [
  {
   "cell_type": "markdown",
   "metadata": {},
   "source": [
    "En este ejercicio, intentaremos predecir usando un modelo lineal, el valor de la cotizacion del IBEX a partir de otras variables de la capital catalana"
   ]
  },
  {
   "cell_type": "code",
   "execution_count": null,
   "metadata": {},
   "outputs": [],
   "source": [
    "# !pip3 install apafib\n",
    "# !pip3 install plotly"
   ]
  },
  {
   "cell_type": "markdown",
   "metadata": {},
   "source": [
    "Cargamos los modulos necesarios"
   ]
  },
  {
   "cell_type": "code",
   "execution_count": null,
   "metadata": {},
   "outputs": [],
   "source": [
    "import pandas as pd\n",
    "from pandas.plotting import scatter_matrix\n",
    "import matplotlib.pyplot as plt\n",
    "import seaborn as sns\n",
    "import pandas as pd\n",
    "import matplotlib as mpl\n",
    "\n",
    "import numpy as np\n",
    "import matplotlib.pyplot as plt\n",
    "import seaborn as sns\n",
    "\n",
    "from sklearn.model_selection import train_test_split, cross_val_score\n",
    "\n",
    "from sklearn.preprocessing import MinMaxScaler\n",
    "from sklearn.impute import SimpleImputer\n",
    "from sklearn import set_config\n",
    "\n",
    "from sklearn.metrics import  ConfusionMatrixDisplay,\\\n",
    "                  classification_report,  RocCurveDisplay, PrecisionRecallDisplay,\\\n",
    "                    accuracy_score, f1_score, precision_score, recall_score\n",
    "\n",
    "\n",
    "from sklearn.discriminant_analysis import LinearDiscriminantAnalysis, QuadraticDiscriminantAnalysis\n",
    "from sklearn.linear_model import LinearRegression, Ridge, RidgeCV, Lasso, LassoCV\n",
    "from sklearn.naive_bayes import BernoulliNB, GaussianNB, CategoricalNB, MultinomialNB\n",
    "\n",
    "from sklearn.model_selection import GridSearchCV\n",
    "\n",
    "from yellowbrick.target.feature_correlation import feature_correlation\n",
    "from yellowbrick.classifier import precision_recall_curve\n",
    "from sklearn.decomposition import PCA\n",
    "from sklearn.preprocessing import StandardScaler\n",
    "from sklearn.manifold import LocallyLinearEmbedding\n",
    "from IPython.display import display, HTML"
   ]
  },
  {
   "cell_type": "markdown",
   "metadata": {},
   "source": [
    "Leemos los datos de APAfib"
   ]
  },
  {
   "cell_type": "code",
   "execution_count": null,
   "metadata": {},
   "outputs": [],
   "source": [
    "from apafib import load_BCN_IBEX\n",
    "data = load_BCN_IBEX()\n",
    "data.head()"
   ]
  },
  {
   "cell_type": "code",
   "execution_count": null,
   "metadata": {},
   "outputs": [],
   "source": [
    "data.describe(include='all').T"
   ]
  },
  {
   "cell_type": "markdown",
   "metadata": {},
   "source": [
    "Vemos la distribucion de los datos por cada columna"
   ]
  },
  {
   "cell_type": "code",
   "execution_count": null,
   "metadata": {},
   "outputs": [],
   "source": [
    "fig, axes = plt.subplots(8,2,figsize=(15,50))\n",
    "\n",
    "data_frame = pd.DataFrame(data)\n",
    "data_frame.columns=data.columns\n",
    "for i, c in enumerate(data.columns):\n",
    "    ax = axes.reshape(-1)[i]\n",
    "    if data_frame[c].dtype.kind == 'O':\n",
    "        a = sns.countplot(x=c,data=data_frame,ax=ax)\n",
    "    else:\n",
    "        b = sns.histplot(x=c,data=data_frame,ax=ax)\n",
    "plt.tight_layout()"
   ]
  },
  {
   "cell_type": "markdown",
   "metadata": {},
   "source": [
    "Separamos los datos de la variable objetivo, y creamos los conjuntos de training y test"
   ]
  },
  {
   "cell_type": "code",
   "execution_count": null,
   "metadata": {},
   "outputs": [],
   "source": [
    "X= data.iloc[:,:-1]\n",
    "y= data.loc[:,'Mercat bursàtil: IBEX-35 / '].copy()"
   ]
  },
  {
   "cell_type": "code",
   "execution_count": 48,
   "metadata": {},
   "outputs": [],
   "source": [
    "from sklearn.model_selection import train_test_split\n",
    "X_train, X_test, y_train, y_test = train_test_split(X, y, test_size=0.2, random_state=42)"
   ]
  },
  {
   "cell_type": "markdown",
   "metadata": {},
   "source": [
    "Aplicamos el analisis de componentes principales (PCA), para ver si podemos reducir la dimensionalidad del problema sin perder much varianza por el camino:"
   ]
  },
  {
   "cell_type": "code",
   "execution_count": null,
   "metadata": {},
   "outputs": [],
   "source": [
    "pca = PCA().fit(X_train)"
   ]
  },
  {
   "cell_type": "code",
   "execution_count": null,
   "metadata": {},
   "outputs": [],
   "source": [
    "fig = plt.figure(figsize=(8,6));\n",
    "plt.plot(range(1,len(pca.explained_variance_ratio_ )+1),pca.explained_variance_ratio_ ,alpha=0.8,marker='.',label=\"Variancia Explicada\");\n",
    "y_label = plt.ylabel('Variancia explicada');\n",
    "x_label = plt.xlabel('Componentes');\n",
    "plt.plot(range(1,len(pca.explained_variance_ratio_ )+1),\n",
    "         np.cumsum(pca.explained_variance_ratio_),\n",
    "         c='red',marker='.',\n",
    "         label=\"Variancia explicada acumulativa\");\n",
    "plt.legend();\n",
    "plt.title('Porcentaje de variancia explicada por componente');"
   ]
  },
  {
   "cell_type": "markdown",
   "metadata": {},
   "source": [
    "Podemos ver que con 2 componentes podemos explicar un 90% de la varianza, cosa que no está mal, peró es ampliamente mejorable"
   ]
  },
  {
   "cell_type": "code",
   "execution_count": null,
   "metadata": {},
   "outputs": [],
   "source": [
    "X_trans = pca.transform(X_train)\n",
    "plt.figure(figsize=(8,8));\n",
    "sns.scatterplot(x=X_trans[:,0], y=X_trans[:,1], hue=y_train)"
   ]
  },
  {
   "cell_type": "markdown",
   "metadata": {},
   "source": [
    "Si lo reporesentamos en 2 dimensiones, podemos observar cumulos de datos que, más o menos, se separan por valores, de todas formas, hay muchas zonas donde no se acaban de separar los puntos, seguramente mas dimensiones ayudarian a aclarar la confusión"
   ]
  },
  {
   "cell_type": "markdown",
   "metadata": {},
   "source": [
    "Una vez visualizados los datos, vamos a entrenar tres modelos lineales y ver que tan bien pueden ajustarse al modelo y, finalmente, predecir la variable objetivo. Todo sea dicho, dado que antes hemos observado que nuestros datos no siguen una distribucion normal, es de esperar que el desempeño de los modelos sea mas bien mediocre"
   ]
  },
  {
   "cell_type": "code",
   "execution_count": null,
   "metadata": {},
   "outputs": [],
   "source": [
    "from sklearn.linear_model import LinearRegression, PoissonRegressor, Lasso, LassoCV\n",
    "from sklearn.model_selection import train_test_split,  KFold, cross_val_score\n",
    "from sklearn.metrics import mean_squared_error, r2_score, mean_absolute_error"
   ]
  },
  {
   "cell_type": "markdown",
   "metadata": {},
   "source": [
    "Empezaremos entrenado en modelo de Regresion lineal"
   ]
  },
  {
   "cell_type": "code",
   "execution_count": null,
   "metadata": {},
   "outputs": [],
   "source": [
    "lr = LinearRegression().fit(X_train,y_train)\n",
    "r2_lr = np.mean(cross_val_score(lr.fit(X_train,y_train),X_train,y_train))\n",
    "\n",
    "r2_results = pd.DataFrame({'lr':r2_lr},index=['CV R2'])\n",
    "r2_results.loc['Test R2', :] =[r2_score(y_test,lr.predict(X_test))]\n",
    "r2_results.loc['lambda','lr']=0\n",
    "r2_results"
   ]
  },
  {
   "cell_type": "markdown",
   "metadata": {},
   "source": [
    "No obtenemos un mal resultado, pero es muy mejorable."
   ]
  },
  {
   "cell_type": "markdown",
   "metadata": {},
   "source": [
    "Vamos a ver si los siguentes modelos lo hacen mejor, veamos el resultado de la regresion Ridge"
   ]
  },
  {
   "cell_type": "code",
   "execution_count": null,
   "metadata": {},
   "outputs": [],
   "source": [
    "lambdas = [1e-3,1e-2,0.1, 0.5,1,5,10,50,100]"
   ]
  },
  {
   "cell_type": "code",
   "execution_count": null,
   "metadata": {},
   "outputs": [],
   "source": [
    "ridge_cv = RidgeCV(alphas=lambdas, cv=5).fit(X_train, y_train)\n",
    "\n",
    "r2_ridge = np.mean(cross_val_score(ridge_cv, X_train, y_train, cv=5, scoring='r2'))\n",
    "\n",
    "r2_results = pd.DataFrame({'RidgeRegression':r2_ridge},index=['CV R2'])\n",
    "r2_results.loc['Test R2', :] =[r2_score(y_test,ridge_cv.predict(X_test))]\n",
    "r2_results.loc['lambda','RidgeRegression']=10\n",
    "r2_results"
   ]
  },
  {
   "cell_type": "markdown",
   "metadata": {},
   "source": [
    "Como la regresión lineal, el resultado no es del todo malo, pero deja mucho que desear"
   ]
  },
  {
   "cell_type": "markdown",
   "metadata": {},
   "source": [
    "Probamos para terminar con la regresión LASSO"
   ]
  },
  {
   "cell_type": "code",
   "execution_count": null,
   "metadata": {},
   "outputs": [],
   "source": [
    "lasso_cv =LassoCV(alphas=lambdas,cv=5,tol=1e-1).fit(X_train,y_train)\n",
    "\n",
    "r2_lasso =  np.mean(cross_val_score(lasso_cv, X_train,y_train))\n",
    "\n",
    "r2_results = pd.DataFrame({'LASSO':r2_lasso},index=['CV R2'])\n",
    "r2_results.loc['Test R2', :] =[r2_score(y_test,lasso_cv.predict(X_test))]\n",
    "r2_results.loc['lambda','LASSO']=lasso_cv.alpha_\n",
    "r2_results"
   ]
  },
  {
   "cell_type": "markdown",
   "metadata": {},
   "source": [
    "Igual que los dos anteriores, obtenemos resultados muy parecidos"
   ]
  },
  {
   "cell_type": "code",
   "execution_count": null,
   "metadata": {},
   "outputs": [],
   "source": [
    "import re\n",
    "\n",
    "\n",
    "r2_results = pd.DataFrame({'lr':r2_lr, 'Ridge':r2_ridge, 'LASSO':r2_lasso},index=['CV R2'])\n",
    "\n",
    "r2_results.loc['Test R2', :] =[r2_score(y_test,lr.predict(X_test)),\n",
    "                                r2_score(y_test,ridge_cv.predict(X_test)),\n",
    "                                r2_score(y_test,lasso_cv.predict(X_test))]\n",
    "r2_results.loc['lambda','lr']='N/A'\n",
    "r2_results.loc['lambda','Ridge']=ridge_cv.alpha_\n",
    "r2_results.loc['lambda','LASSO']=lasso_cv.alpha_\n",
    "r2_results"
   ]
  },
  {
   "cell_type": "markdown",
   "metadata": {},
   "source": [
    "Podemos representar como difieren los valores predichos por cada modelos de los datos reales de test, asi como los qqplots de cada uno"
   ]
  },
  {
   "cell_type": "code",
   "execution_count": null,
   "metadata": {},
   "outputs": [],
   "source": [
    "from yellowbrick.regressor import residuals_plot\n",
    "plt.figure(figsize=(12,8));\n",
    "viz = residuals_plot(lr, X_train, y_train, X_test, y_test, is_fitted=True, qqplot=True, hist=False);\n",
    "plt.figure(figsize=(12,8));\n",
    "viz = residuals_plot(ridge_cv, X_train, y_train, X_test, y_test, is_fitted=True, qqplot=True, hist=False);\n",
    "plt.figure(figsize=(12,8));\n",
    "viz = residuals_plot(lasso_cv, X_train, y_train, X_test, y_test, is_fitted=True, qqplot=True, hist=False);"
   ]
  },
  {
   "cell_type": "markdown",
   "metadata": {},
   "source": [
    "Para tratar de entender los modelos podemos visualizar los pesos que le ha asignado cada modelo a cada una de las variables de los datos."
   ]
  },
  {
   "cell_type": "code",
   "execution_count": null,
   "metadata": {},
   "outputs": [],
   "source": [
    "weights = pd.DataFrame({'lr':lr.coef_, 'LASSO':lasso_cv.coef_, 'ridge': ridge_cv.coef_},index=X_train.columns)\n",
    "weights.T"
   ]
  },
  {
   "cell_type": "code",
   "execution_count": null,
   "metadata": {},
   "outputs": [],
   "source": [
    "fig,  ax = plt.subplots( figsize = (20,1));\n",
    "sns.heatmap(weights.T.loc[['lr'],:].abs(),annot=True, linewidths=.5,ax=ax,cbar=False,xticklabels=False);\n",
    "\n",
    "plt.figure(figsize = (20,1));\n",
    "sns.heatmap(weights.T.loc[['LASSO'],:].abs(),annot=True, linewidths=.5,cbar=False,xticklabels=False);\n",
    "\n",
    "plt.figure(figsize = (20,1));\n",
    "sns.heatmap(weights.T.loc[['ridge'],:].abs(),annot=True, linewidths=.5,cbar=False,xticklabels=True);"
   ]
  },
  {
   "cell_type": "markdown",
   "metadata": {},
   "source": [
    "Vemos que los tres modelos coinciden bastante en que variables son las relevantes y cuales no. Vemos claramente dos categorias, la formada por las variables con pesos > 100 y las con pesos < 50.\n"
   ]
  },
  {
   "cell_type": "markdown",
   "metadata": {},
   "source": [
    "Las variables que los 3 modelos destacan no parece tener ninguna relación con la variables que queremos predecir, tan solo la variable que trata del IPC internaual podria tener algun sentido.\n",
    "Tambien, los 3 modelos, desestiman las variables del transito en el aeropuerto del part, que, a priori, podrian parecer mas importantes que las demás.\n",
    "\n",
    "Probaremos de eliminar las variables de menor peso, y reajustar los modelos."
   ]
  },
  {
   "cell_type": "code",
   "execution_count": 55,
   "metadata": {},
   "outputs": [],
   "source": [
    "X_train = X_train.drop(columns=[\"Compra-Venda d'habitatges a Barcelona (Nombre de transmissions) / Habitatges\",'Dades meteorològiques: Precipitació / Barcelona - Zona Universitària',\n",
    "       'Matriculacions de vehicles a Barcelona / Turismes', 'Preu electricitat (majorista) / '])\n",
    "\n",
    "X_test = X_test.drop(columns=[\"Compra-Venda d'habitatges a Barcelona (Nombre de transmissions) / Habitatges\",'Dades meteorològiques: Precipitació / Barcelona - Zona Universitària',\n",
    "       'Matriculacions de vehicles a Barcelona / Turismes', 'Preu electricitat (majorista) / '])"
   ]
  },
  {
   "cell_type": "code",
   "execution_count": 63,
   "metadata": {},
   "outputs": [
    {
     "data": {
      "text/html": [
       "<div>\n",
       "<style scoped>\n",
       "    .dataframe tbody tr th:only-of-type {\n",
       "        vertical-align: middle;\n",
       "    }\n",
       "\n",
       "    .dataframe tbody tr th {\n",
       "        vertical-align: top;\n",
       "    }\n",
       "\n",
       "    .dataframe thead th {\n",
       "        text-align: right;\n",
       "    }\n",
       "</style>\n",
       "<table border=\"1\" class=\"dataframe\">\n",
       "  <thead>\n",
       "    <tr style=\"text-align: right;\">\n",
       "      <th></th>\n",
       "      <th>lr</th>\n",
       "      <th>Ridge</th>\n",
       "      <th>LASSO</th>\n",
       "    </tr>\n",
       "  </thead>\n",
       "  <tbody>\n",
       "    <tr>\n",
       "      <th>CV R2</th>\n",
       "      <td>0.60988</td>\n",
       "      <td>0.607433</td>\n",
       "      <td>0.610669</td>\n",
       "    </tr>\n",
       "    <tr>\n",
       "      <th>Test R2</th>\n",
       "      <td>0.610725</td>\n",
       "      <td>0.610916</td>\n",
       "      <td>0.610732</td>\n",
       "    </tr>\n",
       "    <tr>\n",
       "      <th>lambda</th>\n",
       "      <td>N/A</td>\n",
       "      <td>0.010000</td>\n",
       "      <td>0.001000</td>\n",
       "    </tr>\n",
       "  </tbody>\n",
       "</table>\n",
       "</div>"
      ],
      "text/plain": [
       "               lr     Ridge     LASSO\n",
       "CV R2     0.60988  0.607433  0.610669\n",
       "Test R2  0.610725  0.610916  0.610732\n",
       "lambda        N/A  0.010000  0.001000"
      ]
     },
     "execution_count": 63,
     "metadata": {},
     "output_type": "execute_result"
    }
   ],
   "source": [
    "lr = LinearRegression().fit(X_train,y_train);\n",
    "r2_lr = np.mean(cross_val_score(lr.fit(X_train,y_train),X_train,y_train))\n",
    "\n",
    "lasso_cv =LassoCV(alphas=lambdas,cv=5,tol=1e-1).fit(X_train,y_train)\n",
    "r2_lasso =  np.mean(cross_val_score(lasso_cv, X_train,y_train))\n",
    "\n",
    "ridge_cv = RidgeCV(alphas=lambdas, cv=5).fit(X_train, y_train)\n",
    "r2_ridge = np.mean(cross_val_score(ridge_cv, X_train, y_train, cv=5, scoring='r2'))\n",
    "\n",
    "r2_results = pd.DataFrame({'lr':r2_lr, 'Ridge':r2_ridge, 'LASSO':r2_lasso},index=['CV R2'])\n",
    "\n",
    "r2_results.loc['Test R2', :] =[r2_score(y_test,lr.predict(X_test)),\n",
    "                                r2_score(y_test,ridge_cv.predict(X_test)),\n",
    "                                r2_score(y_test,lasso_cv.predict(X_test))]\n",
    "r2_results.loc['lambda','lr']='N/A'\n",
    "r2_results.loc['lambda','Ridge']=ridge_cv.alpha_\n",
    "r2_results.loc['lambda','LASSO']=lasso_cv.alpha_\n",
    "r2_results"
   ]
  },
  {
   "cell_type": "markdown",
   "metadata": {},
   "source": [
    "Vemos que, no solo no han mejorados los resultados, sino que han empeorado ligeramente."
   ]
  },
  {
   "cell_type": "code",
   "execution_count": null,
   "metadata": {},
   "outputs": [],
   "source": [
    "weights = pd.DataFrame({'lr':lr.coef_, 'LASSO':lasso_cv.coef_, 'ridge': ridge_cv.coef_},index=X_train.columns)\n",
    "fig,  ax = plt.subplots( figsize = (20,1));\n",
    "sns.heatmap(weights.T.loc[['lr'],:].abs(),annot=True, linewidths=.5,ax=ax,cbar=False,xticklabels=False);\n",
    "\n",
    "plt.figure(figsize = (20,1));\n",
    "sns.heatmap(weights.T.loc[['LASSO'],:].abs(),annot=True, linewidths=.5,cbar=False,xticklabels=False);\n",
    "\n",
    "plt.figure(figsize = (20,1));\n",
    "sns.heatmap(weights.T.loc[['ridge'],:].abs(),annot=True, linewidths=.5,cbar=False,xticklabels=True);"
   ]
  },
  {
   "cell_type": "markdown",
   "metadata": {},
   "source": [
    "Podemos ver que la distribucion de los pesos es bastante parecida."
   ]
  },
  {
   "cell_type": "code",
   "execution_count": 102,
   "metadata": {},
   "outputs": [
    {
     "name": "stderr",
     "output_type": "stream",
     "text": [
      "/home/juli/.local/lib/python3.9/site-packages/sklearn/linear_model/_coordinate_descent.py:634: ConvergenceWarning: Objective did not converge. You might want to increase the number of iterations. Duality gap: 3969867.765652291, tolerance: 2760029.9017768246\n",
      "  model = cd_fast.enet_coordinate_descent_gram(\n",
      "/home/juli/.local/lib/python3.9/site-packages/sklearn/linear_model/_coordinate_descent.py:634: ConvergenceWarning: Objective did not converge. You might want to increase the number of iterations. Duality gap: 3349436.3335450515, tolerance: 2760029.9017768246\n",
      "  model = cd_fast.enet_coordinate_descent_gram(\n",
      "/home/juli/.local/lib/python3.9/site-packages/sklearn/linear_model/_coordinate_descent.py:634: ConvergenceWarning: Objective did not converge. You might want to increase the number of iterations. Duality gap: 2823829.7004068187, tolerance: 2760029.9017768246\n",
      "  model = cd_fast.enet_coordinate_descent_gram(\n",
      "/home/juli/.local/lib/python3.9/site-packages/sklearn/linear_model/_coordinate_descent.py:634: ConvergenceWarning: Objective did not converge. You might want to increase the number of iterations. Duality gap: 3951996.8575453474, tolerance: 2866079.201751073\n",
      "  model = cd_fast.enet_coordinate_descent_gram(\n",
      "/home/juli/.local/lib/python3.9/site-packages/sklearn/linear_model/_coordinate_descent.py:634: ConvergenceWarning: Objective did not converge. You might want to increase the number of iterations. Duality gap: 3222544.710565666, tolerance: 2866079.201751073\n",
      "  model = cd_fast.enet_coordinate_descent_gram(\n",
      "/home/juli/.local/lib/python3.9/site-packages/sklearn/linear_model/_coordinate_descent.py:634: ConvergenceWarning: Objective did not converge. You might want to increase the number of iterations. Duality gap: 4001346.1062963204, tolerance: 2676773.900290599\n",
      "  model = cd_fast.enet_coordinate_descent_gram(\n",
      "/home/juli/.local/lib/python3.9/site-packages/sklearn/linear_model/_coordinate_descent.py:634: ConvergenceWarning: Objective did not converge. You might want to increase the number of iterations. Duality gap: 3407873.1080350815, tolerance: 2676773.900290599\n",
      "  model = cd_fast.enet_coordinate_descent_gram(\n",
      "/home/juli/.local/lib/python3.9/site-packages/sklearn/linear_model/_coordinate_descent.py:634: ConvergenceWarning: Objective did not converge. You might want to increase the number of iterations. Duality gap: 2877739.995524964, tolerance: 2676773.900290599\n",
      "  model = cd_fast.enet_coordinate_descent_gram(\n",
      "/home/juli/.local/lib/python3.9/site-packages/sklearn/linear_model/_coordinate_descent.py:634: ConvergenceWarning: Objective did not converge. You might want to increase the number of iterations. Duality gap: 2748711.2891985443, tolerance: 2676773.900290599\n",
      "  model = cd_fast.enet_coordinate_descent_gram(\n",
      "/home/juli/.local/lib/python3.9/site-packages/sklearn/linear_model/_coordinate_descent.py:634: ConvergenceWarning: Objective did not converge. You might want to increase the number of iterations. Duality gap: 3939913.232106335, tolerance: 2670316.951931625\n",
      "  model = cd_fast.enet_coordinate_descent_gram(\n",
      "/home/juli/.local/lib/python3.9/site-packages/sklearn/linear_model/_coordinate_descent.py:634: ConvergenceWarning: Objective did not converge. You might want to increase the number of iterations. Duality gap: 3322853.4508911096, tolerance: 2670316.951931625\n",
      "  model = cd_fast.enet_coordinate_descent_gram(\n",
      "/home/juli/.local/lib/python3.9/site-packages/sklearn/linear_model/_coordinate_descent.py:634: ConvergenceWarning: Objective did not converge. You might want to increase the number of iterations. Duality gap: 2806687.1286442936, tolerance: 2670316.951931625\n",
      "  model = cd_fast.enet_coordinate_descent_gram(\n",
      "/home/juli/.local/lib/python3.9/site-packages/sklearn/linear_model/_coordinate_descent.py:634: ConvergenceWarning: Objective did not converge. You might want to increase the number of iterations. Duality gap: 2686074.1822806736, tolerance: 2670316.951931625\n",
      "  model = cd_fast.enet_coordinate_descent_gram(\n",
      "/home/juli/.local/lib/python3.9/site-packages/sklearn/linear_model/_coordinate_descent.py:634: ConvergenceWarning: Objective did not converge. You might want to increase the number of iterations. Duality gap: 3875410.7417644057, tolerance: 2724390.517846154\n",
      "  model = cd_fast.enet_coordinate_descent_gram(\n",
      "/home/juli/.local/lib/python3.9/site-packages/sklearn/linear_model/_coordinate_descent.py:634: ConvergenceWarning: Objective did not converge. You might want to increase the number of iterations. Duality gap: 3322061.8157727923, tolerance: 2724390.517846154\n",
      "  model = cd_fast.enet_coordinate_descent_gram(\n",
      "/home/juli/.local/lib/python3.9/site-packages/sklearn/linear_model/_coordinate_descent.py:634: ConvergenceWarning: Objective did not converge. You might want to increase the number of iterations. Duality gap: 2801824.524395316, tolerance: 2724390.517846154\n",
      "  model = cd_fast.enet_coordinate_descent_gram(\n",
      "/home/juli/.local/lib/python3.9/site-packages/sklearn/linear_model/_coordinate_descent.py:648: ConvergenceWarning: Objective did not converge. You might want to increase the number of iterations, check the scale of the features or consider increasing regularisation. Duality gap: 3.472e+06, tolerance: 3.427e+06\n",
      "  model = cd_fast.enet_coordinate_descent(\n",
      "/home/juli/.local/lib/python3.9/site-packages/sklearn/linear_model/_coordinate_descent.py:634: ConvergenceWarning: Objective did not converge. You might want to increase the number of iterations. Duality gap: 3969867.765652291, tolerance: 2760029.9017768246\n",
      "  model = cd_fast.enet_coordinate_descent_gram(\n",
      "/home/juli/.local/lib/python3.9/site-packages/sklearn/linear_model/_coordinate_descent.py:634: ConvergenceWarning: Objective did not converge. You might want to increase the number of iterations. Duality gap: 3349436.3335450515, tolerance: 2760029.9017768246\n",
      "  model = cd_fast.enet_coordinate_descent_gram(\n",
      "/home/juli/.local/lib/python3.9/site-packages/sklearn/linear_model/_coordinate_descent.py:634: ConvergenceWarning: Objective did not converge. You might want to increase the number of iterations. Duality gap: 2823829.7004068187, tolerance: 2760029.9017768246\n",
      "  model = cd_fast.enet_coordinate_descent_gram(\n",
      "/home/juli/.local/lib/python3.9/site-packages/sklearn/linear_model/_coordinate_descent.py:634: ConvergenceWarning: Objective did not converge. You might want to increase the number of iterations. Duality gap: 3951996.8575453474, tolerance: 2866079.201751073\n",
      "  model = cd_fast.enet_coordinate_descent_gram(\n",
      "/home/juli/.local/lib/python3.9/site-packages/sklearn/linear_model/_coordinate_descent.py:634: ConvergenceWarning: Objective did not converge. You might want to increase the number of iterations. Duality gap: 3222544.710565666, tolerance: 2866079.201751073\n",
      "  model = cd_fast.enet_coordinate_descent_gram(\n",
      "/home/juli/.local/lib/python3.9/site-packages/sklearn/linear_model/_coordinate_descent.py:634: ConvergenceWarning: Objective did not converge. You might want to increase the number of iterations. Duality gap: 4001346.1062963204, tolerance: 2676773.900290599\n",
      "  model = cd_fast.enet_coordinate_descent_gram(\n",
      "/home/juli/.local/lib/python3.9/site-packages/sklearn/linear_model/_coordinate_descent.py:634: ConvergenceWarning: Objective did not converge. You might want to increase the number of iterations. Duality gap: 3407873.1080350815, tolerance: 2676773.900290599\n",
      "  model = cd_fast.enet_coordinate_descent_gram(\n",
      "/home/juli/.local/lib/python3.9/site-packages/sklearn/linear_model/_coordinate_descent.py:634: ConvergenceWarning: Objective did not converge. You might want to increase the number of iterations. Duality gap: 2877739.995524964, tolerance: 2676773.900290599\n",
      "  model = cd_fast.enet_coordinate_descent_gram(\n",
      "/home/juli/.local/lib/python3.9/site-packages/sklearn/linear_model/_coordinate_descent.py:634: ConvergenceWarning: Objective did not converge. You might want to increase the number of iterations. Duality gap: 2748711.2891985443, tolerance: 2676773.900290599\n",
      "  model = cd_fast.enet_coordinate_descent_gram(\n",
      "/home/juli/.local/lib/python3.9/site-packages/sklearn/linear_model/_coordinate_descent.py:634: ConvergenceWarning: Objective did not converge. You might want to increase the number of iterations. Duality gap: 3939913.232106335, tolerance: 2670316.951931625\n",
      "  model = cd_fast.enet_coordinate_descent_gram(\n",
      "/home/juli/.local/lib/python3.9/site-packages/sklearn/linear_model/_coordinate_descent.py:634: ConvergenceWarning: Objective did not converge. You might want to increase the number of iterations. Duality gap: 3322853.4508911096, tolerance: 2670316.951931625\n",
      "  model = cd_fast.enet_coordinate_descent_gram(\n",
      "/home/juli/.local/lib/python3.9/site-packages/sklearn/linear_model/_coordinate_descent.py:634: ConvergenceWarning: Objective did not converge. You might want to increase the number of iterations. Duality gap: 2806687.1286442936, tolerance: 2670316.951931625\n",
      "  model = cd_fast.enet_coordinate_descent_gram(\n",
      "/home/juli/.local/lib/python3.9/site-packages/sklearn/linear_model/_coordinate_descent.py:634: ConvergenceWarning: Objective did not converge. You might want to increase the number of iterations. Duality gap: 2686074.1822806736, tolerance: 2670316.951931625\n",
      "  model = cd_fast.enet_coordinate_descent_gram(\n",
      "/home/juli/.local/lib/python3.9/site-packages/sklearn/linear_model/_coordinate_descent.py:634: ConvergenceWarning: Objective did not converge. You might want to increase the number of iterations. Duality gap: 3875410.7417644057, tolerance: 2724390.517846154\n",
      "  model = cd_fast.enet_coordinate_descent_gram(\n",
      "/home/juli/.local/lib/python3.9/site-packages/sklearn/linear_model/_coordinate_descent.py:634: ConvergenceWarning: Objective did not converge. You might want to increase the number of iterations. Duality gap: 3322061.8157727923, tolerance: 2724390.517846154\n",
      "  model = cd_fast.enet_coordinate_descent_gram(\n",
      "/home/juli/.local/lib/python3.9/site-packages/sklearn/linear_model/_coordinate_descent.py:634: ConvergenceWarning: Objective did not converge. You might want to increase the number of iterations. Duality gap: 2801824.524395316, tolerance: 2724390.517846154\n",
      "  model = cd_fast.enet_coordinate_descent_gram(\n",
      "/home/juli/.local/lib/python3.9/site-packages/sklearn/linear_model/_coordinate_descent.py:648: ConvergenceWarning: Objective did not converge. You might want to increase the number of iterations, check the scale of the features or consider increasing regularisation. Duality gap: 3.472e+06, tolerance: 3.427e+06\n",
      "  model = cd_fast.enet_coordinate_descent(\n",
      "/home/juli/.local/lib/python3.9/site-packages/sklearn/linear_model/_coordinate_descent.py:634: ConvergenceWarning: Objective did not converge. You might want to increase the number of iterations. Duality gap: 3078863.011230336, tolerance: 2309535.3319784943\n",
      "  model = cd_fast.enet_coordinate_descent_gram(\n",
      "/home/juli/.local/lib/python3.9/site-packages/sklearn/linear_model/_coordinate_descent.py:634: ConvergenceWarning: Objective did not converge. You might want to increase the number of iterations. Duality gap: 2468355.8997089798, tolerance: 2309535.3319784943\n",
      "  model = cd_fast.enet_coordinate_descent_gram(\n",
      "/home/juli/.local/lib/python3.9/site-packages/sklearn/linear_model/_coordinate_descent.py:634: ConvergenceWarning: Objective did not converge. You might want to increase the number of iterations. Duality gap: 3210401.407591268, tolerance: 2221947.303806452\n",
      "  model = cd_fast.enet_coordinate_descent_gram(\n",
      "/home/juli/.local/lib/python3.9/site-packages/sklearn/linear_model/_coordinate_descent.py:634: ConvergenceWarning: Objective did not converge. You might want to increase the number of iterations. Duality gap: 2738267.1521202307, tolerance: 2221947.303806452\n",
      "  model = cd_fast.enet_coordinate_descent_gram(\n",
      "/home/juli/.local/lib/python3.9/site-packages/sklearn/linear_model/_coordinate_descent.py:634: ConvergenceWarning: Objective did not converge. You might want to increase the number of iterations. Duality gap: 2310034.838972131, tolerance: 2221947.303806452\n",
      "  model = cd_fast.enet_coordinate_descent_gram(\n",
      "/home/juli/.local/lib/python3.9/site-packages/sklearn/linear_model/_coordinate_descent.py:634: ConvergenceWarning: Objective did not converge. You might want to increase the number of iterations. Duality gap: 3021705.725028935, tolerance: 2035222.3427580649\n",
      "  model = cd_fast.enet_coordinate_descent_gram(\n",
      "/home/juli/.local/lib/python3.9/site-packages/sklearn/linear_model/_coordinate_descent.py:634: ConvergenceWarning: Objective did not converge. You might want to increase the number of iterations. Duality gap: 2561343.509284408, tolerance: 2035222.3427580649\n",
      "  model = cd_fast.enet_coordinate_descent_gram(\n",
      "/home/juli/.local/lib/python3.9/site-packages/sklearn/linear_model/_coordinate_descent.py:634: ConvergenceWarning: Objective did not converge. You might want to increase the number of iterations. Duality gap: 2069748.294775793, tolerance: 2035222.3427580649\n",
      "  model = cd_fast.enet_coordinate_descent_gram(\n",
      "/home/juli/.local/lib/python3.9/site-packages/sklearn/linear_model/_coordinate_descent.py:634: ConvergenceWarning: Objective did not converge. You might want to increase the number of iterations. Duality gap: 3329900.0643831124, tolerance: 2205289.28626738\n",
      "  model = cd_fast.enet_coordinate_descent_gram(\n",
      "/home/juli/.local/lib/python3.9/site-packages/sklearn/linear_model/_coordinate_descent.py:634: ConvergenceWarning: Objective did not converge. You might want to increase the number of iterations. Duality gap: 2804923.389220617, tolerance: 2205289.28626738\n",
      "  model = cd_fast.enet_coordinate_descent_gram(\n",
      "/home/juli/.local/lib/python3.9/site-packages/sklearn/linear_model/_coordinate_descent.py:634: ConvergenceWarning: Objective did not converge. You might want to increase the number of iterations. Duality gap: 2374650.7596715353, tolerance: 2205289.28626738\n",
      "  model = cd_fast.enet_coordinate_descent_gram(\n",
      "/home/juli/.local/lib/python3.9/site-packages/sklearn/linear_model/_coordinate_descent.py:634: ConvergenceWarning: Objective did not converge. You might want to increase the number of iterations. Duality gap: 2227869.3926969217, tolerance: 2205289.28626738\n",
      "  model = cd_fast.enet_coordinate_descent_gram(\n",
      "/home/juli/.local/lib/python3.9/site-packages/sklearn/linear_model/_coordinate_descent.py:634: ConvergenceWarning: Objective did not converge. You might want to increase the number of iterations. Duality gap: 2889170.3074670625, tolerance: 2255211.788994652\n",
      "  model = cd_fast.enet_coordinate_descent_gram(\n",
      "/home/juli/.local/lib/python3.9/site-packages/sklearn/linear_model/_coordinate_descent.py:634: ConvergenceWarning: Objective did not converge. You might want to increase the number of iterations. Duality gap: 2467427.983606948, tolerance: 2255211.788994652\n",
      "  model = cd_fast.enet_coordinate_descent_gram(\n",
      "/home/juli/.local/lib/python3.9/site-packages/sklearn/linear_model/_coordinate_descent.py:648: ConvergenceWarning: Objective did not converge. You might want to increase the number of iterations, check the scale of the features or consider increasing regularisation. Duality gap: 3.026e+06, tolerance: 2.760e+06\n",
      "  model = cd_fast.enet_coordinate_descent(\n"
     ]
    },
    {
     "name": "stdout",
     "output_type": "stream",
     "text": [
      "0.810062544886031\n"
     ]
    },
    {
     "name": "stderr",
     "output_type": "stream",
     "text": [
      "/home/juli/.local/lib/python3.9/site-packages/sklearn/linear_model/_coordinate_descent.py:634: ConvergenceWarning: Objective did not converge. You might want to increase the number of iterations. Duality gap: 3007191.0425391262, tolerance: 2368848.4451236553\n",
      "  model = cd_fast.enet_coordinate_descent_gram(\n",
      "/home/juli/.local/lib/python3.9/site-packages/sklearn/linear_model/_coordinate_descent.py:634: ConvergenceWarning: Objective did not converge. You might want to increase the number of iterations. Duality gap: 2387093.902486622, tolerance: 2368848.4451236553\n",
      "  model = cd_fast.enet_coordinate_descent_gram(\n",
      "/home/juli/.local/lib/python3.9/site-packages/sklearn/linear_model/_coordinate_descent.py:634: ConvergenceWarning: Objective did not converge. You might want to increase the number of iterations. Duality gap: 3264154.0976167805, tolerance: 2269866.2339623654\n",
      "  model = cd_fast.enet_coordinate_descent_gram(\n",
      "/home/juli/.local/lib/python3.9/site-packages/sklearn/linear_model/_coordinate_descent.py:634: ConvergenceWarning: Objective did not converge. You might want to increase the number of iterations. Duality gap: 2640517.314072936, tolerance: 2269866.2339623654\n",
      "  model = cd_fast.enet_coordinate_descent_gram(\n",
      "/home/juli/.local/lib/python3.9/site-packages/sklearn/linear_model/_coordinate_descent.py:634: ConvergenceWarning: Objective did not converge. You might want to increase the number of iterations. Duality gap: 2962121.2155208183, tolerance: 2144040.872155914\n",
      "  model = cd_fast.enet_coordinate_descent_gram(\n",
      "/home/juli/.local/lib/python3.9/site-packages/sklearn/linear_model/_coordinate_descent.py:634: ConvergenceWarning: Objective did not converge. You might want to increase the number of iterations. Duality gap: 2387400.4462108826, tolerance: 2144040.872155914\n",
      "  model = cd_fast.enet_coordinate_descent_gram(\n",
      "/home/juli/.local/lib/python3.9/site-packages/sklearn/linear_model/_coordinate_descent.py:634: ConvergenceWarning: Objective did not converge. You might want to increase the number of iterations. Duality gap: 3263732.9052649857, tolerance: 2317072.846278075\n",
      "  model = cd_fast.enet_coordinate_descent_gram(\n",
      "/home/juli/.local/lib/python3.9/site-packages/sklearn/linear_model/_coordinate_descent.py:634: ConvergenceWarning: Objective did not converge. You might want to increase the number of iterations. Duality gap: 2686401.7581997337, tolerance: 2317072.846278075\n",
      "  model = cd_fast.enet_coordinate_descent_gram(\n",
      "/home/juli/.local/lib/python3.9/site-packages/sklearn/linear_model/_coordinate_descent.py:634: ConvergenceWarning: Objective did not converge. You might want to increase the number of iterations. Duality gap: 2909056.6734322626, tolerance: 2359956.6519786096\n",
      "  model = cd_fast.enet_coordinate_descent_gram(\n",
      "/home/juli/.local/lib/python3.9/site-packages/sklearn/linear_model/_coordinate_descent.py:634: ConvergenceWarning: Objective did not converge. You might want to increase the number of iterations. Duality gap: 2439628.2492270772, tolerance: 2359956.6519786096\n",
      "  model = cd_fast.enet_coordinate_descent_gram(\n",
      "/home/juli/.local/lib/python3.9/site-packages/sklearn/linear_model/_coordinate_descent.py:648: ConvergenceWarning: Objective did not converge. You might want to increase the number of iterations, check the scale of the features or consider increasing regularisation. Duality gap: 2.926e+06, tolerance: 2.866e+06\n",
      "  model = cd_fast.enet_coordinate_descent(\n",
      "/home/juli/.local/lib/python3.9/site-packages/sklearn/linear_model/_coordinate_descent.py:634: ConvergenceWarning: Objective did not converge. You might want to increase the number of iterations. Duality gap: 3145538.426751142, tolerance: 2182378.3189197867\n",
      "  model = cd_fast.enet_coordinate_descent_gram(\n",
      "/home/juli/.local/lib/python3.9/site-packages/sklearn/linear_model/_coordinate_descent.py:634: ConvergenceWarning: Objective did not converge. You might want to increase the number of iterations. Duality gap: 2669533.4581607203, tolerance: 2182378.3189197867\n",
      "  model = cd_fast.enet_coordinate_descent_gram(\n",
      "/home/juli/.local/lib/python3.9/site-packages/sklearn/linear_model/_coordinate_descent.py:634: ConvergenceWarning: Objective did not converge. You might want to increase the number of iterations. Duality gap: 2220192.7235725466, tolerance: 2182378.3189197867\n",
      "  model = cd_fast.enet_coordinate_descent_gram(\n",
      "/home/juli/.local/lib/python3.9/site-packages/sklearn/linear_model/_coordinate_descent.py:634: ConvergenceWarning: Objective did not converge. You might want to increase the number of iterations. Duality gap: 3302905.558673081, tolerance: 2161691.2774652415\n",
      "  model = cd_fast.enet_coordinate_descent_gram(\n",
      "/home/juli/.local/lib/python3.9/site-packages/sklearn/linear_model/_coordinate_descent.py:634: ConvergenceWarning: Objective did not converge. You might want to increase the number of iterations. Duality gap: 2764786.7395118503, tolerance: 2161691.2774652415\n",
      "  model = cd_fast.enet_coordinate_descent_gram(\n",
      "/home/juli/.local/lib/python3.9/site-packages/sklearn/linear_model/_coordinate_descent.py:634: ConvergenceWarning: Objective did not converge. You might want to increase the number of iterations. Duality gap: 2335225.0946158944, tolerance: 2161691.2774652415\n",
      "  model = cd_fast.enet_coordinate_descent_gram(\n",
      "/home/juli/.local/lib/python3.9/site-packages/sklearn/linear_model/_coordinate_descent.py:634: ConvergenceWarning: Objective did not converge. You might want to increase the number of iterations. Duality gap: 2242253.9376279595, tolerance: 2161691.2774652415\n",
      "  model = cd_fast.enet_coordinate_descent_gram(\n",
      "/home/juli/.local/lib/python3.9/site-packages/sklearn/linear_model/_coordinate_descent.py:634: ConvergenceWarning: Objective did not converge. You might want to increase the number of iterations. Duality gap: 3027336.967463865, tolerance: 2124011.01964706\n",
      "  model = cd_fast.enet_coordinate_descent_gram(\n",
      "/home/juli/.local/lib/python3.9/site-packages/sklearn/linear_model/_coordinate_descent.py:634: ConvergenceWarning: Objective did not converge. You might want to increase the number of iterations. Duality gap: 2522318.20879887, tolerance: 2124011.01964706\n",
      "  model = cd_fast.enet_coordinate_descent_gram(\n",
      "/home/juli/.local/lib/python3.9/site-packages/sklearn/linear_model/_coordinate_descent.py:634: ConvergenceWarning: Objective did not converge. You might want to increase the number of iterations. Duality gap: 3200945.876477331, tolerance: 2058819.6917754018\n",
      "  model = cd_fast.enet_coordinate_descent_gram(\n",
      "/home/juli/.local/lib/python3.9/site-packages/sklearn/linear_model/_coordinate_descent.py:634: ConvergenceWarning: Objective did not converge. You might want to increase the number of iterations. Duality gap: 2671312.109651754, tolerance: 2058819.6917754018\n",
      "  model = cd_fast.enet_coordinate_descent_gram(\n",
      "/home/juli/.local/lib/python3.9/site-packages/sklearn/linear_model/_coordinate_descent.py:634: ConvergenceWarning: Objective did not converge. You might want to increase the number of iterations. Duality gap: 2261628.163919019, tolerance: 2058819.6917754018\n",
      "  model = cd_fast.enet_coordinate_descent_gram(\n",
      "/home/juli/.local/lib/python3.9/site-packages/sklearn/linear_model/_coordinate_descent.py:634: ConvergenceWarning: Objective did not converge. You might want to increase the number of iterations. Duality gap: 2162131.990170166, tolerance: 2058819.6917754018\n",
      "  model = cd_fast.enet_coordinate_descent_gram(\n",
      "/home/juli/.local/lib/python3.9/site-packages/sklearn/linear_model/_coordinate_descent.py:634: ConvergenceWarning: Objective did not converge. You might want to increase the number of iterations. Duality gap: 3055819.907169409, tolerance: 2172046.389675533\n",
      "  model = cd_fast.enet_coordinate_descent_gram(\n",
      "/home/juli/.local/lib/python3.9/site-packages/sklearn/linear_model/_coordinate_descent.py:634: ConvergenceWarning: Objective did not converge. You might want to increase the number of iterations. Duality gap: 2615111.222282352, tolerance: 2172046.389675533\n",
      "  model = cd_fast.enet_coordinate_descent_gram(\n",
      "/home/juli/.local/lib/python3.9/site-packages/sklearn/linear_model/_coordinate_descent.py:634: ConvergenceWarning: Objective did not converge. You might want to increase the number of iterations. Duality gap: 2220996.5495137097, tolerance: 2172046.389675533\n",
      "  model = cd_fast.enet_coordinate_descent_gram(\n",
      "/home/juli/.local/lib/python3.9/site-packages/sklearn/linear_model/_coordinate_descent.py:648: ConvergenceWarning: Objective did not converge. You might want to increase the number of iterations, check the scale of the features or consider increasing regularisation. Duality gap: 3.622e+06, tolerance: 2.677e+06\n",
      "  model = cd_fast.enet_coordinate_descent(\n",
      "/home/juli/.local/lib/python3.9/site-packages/sklearn/linear_model/_coordinate_descent.py:634: ConvergenceWarning: Objective did not converge. You might want to increase the number of iterations. Duality gap: 3102723.8801111938, tolerance: 2177014.3143850267\n",
      "  model = cd_fast.enet_coordinate_descent_gram(\n",
      "/home/juli/.local/lib/python3.9/site-packages/sklearn/linear_model/_coordinate_descent.py:634: ConvergenceWarning: Objective did not converge. You might want to increase the number of iterations. Duality gap: 2590054.6679717097, tolerance: 2177014.3143850267\n",
      "  model = cd_fast.enet_coordinate_descent_gram(\n",
      "/home/juli/.local/lib/python3.9/site-packages/sklearn/linear_model/_coordinate_descent.py:634: ConvergenceWarning: Objective did not converge. You might want to increase the number of iterations. Duality gap: 3232310.862648784, tolerance: 2157660.892866311\n",
      "  model = cd_fast.enet_coordinate_descent_gram(\n",
      "/home/juli/.local/lib/python3.9/site-packages/sklearn/linear_model/_coordinate_descent.py:634: ConvergenceWarning: Objective did not converge. You might want to increase the number of iterations. Duality gap: 2739003.123721264, tolerance: 2157660.892866311\n",
      "  model = cd_fast.enet_coordinate_descent_gram(\n",
      "/home/juli/.local/lib/python3.9/site-packages/sklearn/linear_model/_coordinate_descent.py:634: ConvergenceWarning: Objective did not converge. You might want to increase the number of iterations. Duality gap: 2345775.948513861, tolerance: 2157660.892866311\n",
      "  model = cd_fast.enet_coordinate_descent_gram(\n",
      "/home/juli/.local/lib/python3.9/site-packages/sklearn/linear_model/_coordinate_descent.py:634: ConvergenceWarning: Objective did not converge. You might want to increase the number of iterations. Duality gap: 2227025.288661246, tolerance: 2157660.892866311\n",
      "  model = cd_fast.enet_coordinate_descent_gram(\n",
      "/home/juli/.local/lib/python3.9/site-packages/sklearn/linear_model/_coordinate_descent.py:634: ConvergenceWarning: Objective did not converge. You might want to increase the number of iterations. Duality gap: 3003789.451912534, tolerance: 2159446.947796792\n",
      "  model = cd_fast.enet_coordinate_descent_gram(\n",
      "/home/juli/.local/lib/python3.9/site-packages/sklearn/linear_model/_coordinate_descent.py:634: ConvergenceWarning: Objective did not converge. You might want to increase the number of iterations. Duality gap: 2464952.9439641004, tolerance: 2159446.947796792\n",
      "  model = cd_fast.enet_coordinate_descent_gram(\n",
      "/home/juli/.local/lib/python3.9/site-packages/sklearn/linear_model/_coordinate_descent.py:634: ConvergenceWarning: Objective did not converge. You might want to increase the number of iterations. Duality gap: 3117095.5279894145, tolerance: 2011383.1841604298\n",
      "  model = cd_fast.enet_coordinate_descent_gram(\n",
      "/home/juli/.local/lib/python3.9/site-packages/sklearn/linear_model/_coordinate_descent.py:634: ConvergenceWarning: Objective did not converge. You might want to increase the number of iterations. Duality gap: 2637301.9885751395, tolerance: 2011383.1841604298\n",
      "  model = cd_fast.enet_coordinate_descent_gram(\n",
      "/home/juli/.local/lib/python3.9/site-packages/sklearn/linear_model/_coordinate_descent.py:634: ConvergenceWarning: Objective did not converge. You might want to increase the number of iterations. Duality gap: 2192167.09455892, tolerance: 2011383.1841604298\n",
      "  model = cd_fast.enet_coordinate_descent_gram(\n",
      "/home/juli/.local/lib/python3.9/site-packages/sklearn/linear_model/_coordinate_descent.py:634: ConvergenceWarning: Objective did not converge. You might want to increase the number of iterations. Duality gap: 2086487.4992052582, tolerance: 2011383.1841604298\n",
      "  model = cd_fast.enet_coordinate_descent_gram(\n",
      "/home/juli/.local/lib/python3.9/site-packages/sklearn/linear_model/_coordinate_descent.py:634: ConvergenceWarning: Objective did not converge. You might want to increase the number of iterations. Duality gap: 2997967.414450586, tolerance: 2165728.009803192\n",
      "  model = cd_fast.enet_coordinate_descent_gram(\n",
      "/home/juli/.local/lib/python3.9/site-packages/sklearn/linear_model/_coordinate_descent.py:634: ConvergenceWarning: Objective did not converge. You might want to increase the number of iterations. Duality gap: 2539962.4429384656, tolerance: 2165728.009803192\n",
      "  model = cd_fast.enet_coordinate_descent_gram(\n",
      "/home/juli/.local/lib/python3.9/site-packages/sklearn/linear_model/_coordinate_descent.py:648: ConvergenceWarning: Objective did not converge. You might want to increase the number of iterations, check the scale of the features or consider increasing regularisation. Duality gap: 3.614e+06, tolerance: 2.670e+06\n",
      "  model = cd_fast.enet_coordinate_descent(\n",
      "/home/juli/.local/lib/python3.9/site-packages/sklearn/linear_model/_coordinate_descent.py:634: ConvergenceWarning: Objective did not converge. You might want to increase the number of iterations. Duality gap: 2899818.316107499, tolerance: 2231514.4828235293\n",
      "  model = cd_fast.enet_coordinate_descent_gram(\n",
      "/home/juli/.local/lib/python3.9/site-packages/sklearn/linear_model/_coordinate_descent.py:634: ConvergenceWarning: Objective did not converge. You might want to increase the number of iterations. Duality gap: 2483598.766259258, tolerance: 2231514.4828235293\n",
      "  model = cd_fast.enet_coordinate_descent_gram(\n",
      "/home/juli/.local/lib/python3.9/site-packages/sklearn/linear_model/_coordinate_descent.py:634: ConvergenceWarning: Objective did not converge. You might want to increase the number of iterations. Duality gap: 3162644.9077527765, tolerance: 2213636.475465241\n",
      "  model = cd_fast.enet_coordinate_descent_gram(\n",
      "/home/juli/.local/lib/python3.9/site-packages/sklearn/linear_model/_coordinate_descent.py:634: ConvergenceWarning: Objective did not converge. You might want to increase the number of iterations. Duality gap: 2717232.2822218114, tolerance: 2213636.475465241\n",
      "  model = cd_fast.enet_coordinate_descent_gram(\n",
      "/home/juli/.local/lib/python3.9/site-packages/sklearn/linear_model/_coordinate_descent.py:634: ConvergenceWarning: Objective did not converge. You might want to increase the number of iterations. Duality gap: 2271264.6383393263, tolerance: 2213636.475465241\n",
      "  model = cd_fast.enet_coordinate_descent_gram(\n",
      "/home/juli/.local/lib/python3.9/site-packages/sklearn/linear_model/_coordinate_descent.py:634: ConvergenceWarning: Objective did not converge. You might want to increase the number of iterations. Duality gap: 2979826.98005673, tolerance: 2217627.0736470595\n",
      "  model = cd_fast.enet_coordinate_descent_gram(\n",
      "/home/juli/.local/lib/python3.9/site-packages/sklearn/linear_model/_coordinate_descent.py:634: ConvergenceWarning: Objective did not converge. You might want to increase the number of iterations. Duality gap: 2472851.987601023, tolerance: 2217627.0736470595\n",
      "  model = cd_fast.enet_coordinate_descent_gram(\n",
      "/home/juli/.local/lib/python3.9/site-packages/sklearn/linear_model/_coordinate_descent.py:634: ConvergenceWarning: Objective did not converge. You might want to increase the number of iterations. Duality gap: 3004015.345034932, tolerance: 2079305.9791123008\n",
      "  model = cd_fast.enet_coordinate_descent_gram(\n",
      "/home/juli/.local/lib/python3.9/site-packages/sklearn/linear_model/_coordinate_descent.py:634: ConvergenceWarning: Objective did not converge. You might want to increase the number of iterations. Duality gap: 2579613.726181122, tolerance: 2079305.9791123008\n",
      "  model = cd_fast.enet_coordinate_descent_gram(\n",
      "/home/juli/.local/lib/python3.9/site-packages/sklearn/linear_model/_coordinate_descent.py:634: ConvergenceWarning: Objective did not converge. You might want to increase the number of iterations. Duality gap: 2164201.911688434, tolerance: 2079305.9791123008\n",
      "  model = cd_fast.enet_coordinate_descent_gram(\n",
      "/home/juli/.local/lib/python3.9/site-packages/sklearn/linear_model/_coordinate_descent.py:634: ConvergenceWarning: Objective did not converge. You might want to increase the number of iterations. Duality gap: 3136912.872805075, tolerance: 2151207.128739362\n",
      "  model = cd_fast.enet_coordinate_descent_gram(\n",
      "/home/juli/.local/lib/python3.9/site-packages/sklearn/linear_model/_coordinate_descent.py:634: ConvergenceWarning: Objective did not converge. You might want to increase the number of iterations. Duality gap: 2652880.5522286044, tolerance: 2151207.128739362\n",
      "  model = cd_fast.enet_coordinate_descent_gram(\n",
      "/home/juli/.local/lib/python3.9/site-packages/sklearn/linear_model/_coordinate_descent.py:634: ConvergenceWarning: Objective did not converge. You might want to increase the number of iterations. Duality gap: 2237290.735142938, tolerance: 2151207.128739362\n",
      "  model = cd_fast.enet_coordinate_descent_gram(\n"
     ]
    },
    {
     "data": {
      "text/html": [
       "<div>\n",
       "<style scoped>\n",
       "    .dataframe tbody tr th:only-of-type {\n",
       "        vertical-align: middle;\n",
       "    }\n",
       "\n",
       "    .dataframe tbody tr th {\n",
       "        vertical-align: top;\n",
       "    }\n",
       "\n",
       "    .dataframe thead th {\n",
       "        text-align: right;\n",
       "    }\n",
       "</style>\n",
       "<table border=\"1\" class=\"dataframe\">\n",
       "  <thead>\n",
       "    <tr style=\"text-align: right;\">\n",
       "      <th></th>\n",
       "      <th>LASSO</th>\n",
       "    </tr>\n",
       "  </thead>\n",
       "  <tbody>\n",
       "    <tr>\n",
       "      <th>CV R2</th>\n",
       "      <td>0.712516</td>\n",
       "    </tr>\n",
       "    <tr>\n",
       "      <th>Test R2</th>\n",
       "      <td>0.685825</td>\n",
       "    </tr>\n",
       "    <tr>\n",
       "      <th>lambda</th>\n",
       "      <td>1.000000</td>\n",
       "    </tr>\n",
       "  </tbody>\n",
       "</table>\n",
       "</div>"
      ],
      "text/plain": [
       "            LASSO\n",
       "CV R2    0.712516\n",
       "Test R2  0.685825\n",
       "lambda   1.000000"
      ]
     },
     "execution_count": 102,
     "metadata": {},
     "output_type": "execute_result"
    }
   ],
   "source": [
    "from sklearn.preprocessing import PolynomialFeatures    \n",
    "from sklearn.pipeline import make_pipeline\n",
    "\n",
    "model_lasso = make_pipeline(PolynomialFeatures(degree=2), LassoCV(alphas=lambdas,cv=5,tol=1e-1))\n",
    "# model_ridge = make_pipeline(PolynomialFeatures(degree=2), RidgeCV(alphas=lambdas, cv=5).fit(X_train, y_train))\n",
    "\n",
    "\n",
    "model_lasso.fit(X_train, y_train)\n",
    "# model_ridge.fit(X_train, y_train)\n",
    "print(model_lasso.score(X_train, y_train))\n",
    "\n",
    "t = PolynomialFeatures(degree=2)\n",
    "d = t.fit_transform(X_train)\n",
    "f = t.fit_transform(X_test)\n",
    "# print(len(y_train))\n",
    "lasso_cv =LassoCV(alphas=lambdas,cv=5,tol=1e-1).fit(d,y_train)\n",
    "\n",
    "r2_lasso =  np.mean(cross_val_score(lasso_cv, d,y_train))\n",
    "# len(lasso_cv.predict(d))\n",
    "r2_results = pd.DataFrame({'LASSO':r2_lasso},index=['CV R2'])\n",
    "r2_results.loc['Test R2', :] =[r2_score(y_test,lasso_cv.predict(f))]\n",
    "r2_results.loc['lambda','LASSO']=lasso_cv.alpha_\n",
    "r2_results\n",
    "\n",
    "# weights = pd.DataFrame({'LASSO':model_lasso[1].coef_, 'Ridge': model_ridge[1].coef_},index=[i for i in range(len(model_lasso[1].coef_))])\n",
    "\n",
    "# plt.figure(figsize = (30,1));\n",
    "# sns.heatmap(weights.T.loc[['LASSO'],:].abs(),annot=True, linewidths=.5,cbar=False,xticklabels=False);\n",
    "\n",
    "# plt.figure(figsize = (30,1));\n",
    "# sns.heatmap(weights.T.loc[['Ridge'],:].abs(),annot=True, linewidths=.5,cbar=False,xticklabels=True);\n"
   ]
  },
  {
   "cell_type": "code",
   "execution_count": null,
   "metadata": {},
   "outputs": [],
   "source": [
    "from yellowbrick.regressor import prediction_error"
   ]
  },
  {
   "cell_type": "code",
   "execution_count": null,
   "metadata": {},
   "outputs": [],
   "source": [
    "plt.figure(figsize=(8,8))\n",
    "visualizer = prediction_error(ridge_cv, X_test, y_test, is_fitted=True)"
   ]
  },
  {
   "cell_type": "code",
   "execution_count": null,
   "metadata": {},
   "outputs": [],
   "source": [
    "plt.figure(figsize=(8,8))\n",
    "visualizer = prediction_error(lr, X_test, y_test, is_fitted=True)"
   ]
  },
  {
   "cell_type": "code",
   "execution_count": null,
   "metadata": {},
   "outputs": [],
   "source": [
    "plt.figure(figsize=(8,8))\n",
    "visualizer = prediction_error(lasso_cv, X_test, y_test, is_fitted=True)"
   ]
  },
  {
   "cell_type": "code",
   "execution_count": null,
   "metadata": {},
   "outputs": [],
   "source": [
    "from scipy import stats"
   ]
  },
  {
   "cell_type": "code",
   "execution_count": null,
   "metadata": {},
   "outputs": [],
   "source": [
    "fig, ax = plt.subplots(figsize=(8,8))\n",
    "stats.probplot(lr.resid, plot=plt);"
   ]
  },
  {
   "cell_type": "code",
   "execution_count": null,
   "metadata": {},
   "outputs": [],
   "source": [
    "weights = pd.DataFrame({'lr':lr.coef_, 'ridge_cv':ridge.coef_, 'lasso_cv':lasso_cv.coef_},index=X_train.columns)\n",
    "fig,  ax = plt.subplots( figsize = (20,1));\n",
    "sns.heatmap(weights.T.loc[['lr'],:].abs(),annot=True, linewidths=.5,ax=ax,cbar=False,xticklabels=False);\n",
    "\n",
    "plt.figure(figsize = (20,1));\n",
    "sns.heatmap(weights.T.loc[['ridge_cv'],:].abs(),annot=True, linewidths=.5,cbar=False,xticklabels=False);\n",
    "\n",
    "plt.figure(figsize = (20,1));\n",
    "sns.heatmap(weights.T.loc[['ridge_cv'],:].abs(),annot=True, linewidths=.5,cbar=False,xticklabels=True);"
   ]
  }
 ],
 "metadata": {
  "kernelspec": {
   "display_name": "Python 3.9.13 64-bit",
   "language": "python",
   "name": "python3"
  },
  "language_info": {
   "codemirror_mode": {
    "name": "ipython",
    "version": 3
   },
   "file_extension": ".py",
   "mimetype": "text/x-python",
   "name": "python",
   "nbconvert_exporter": "python",
   "pygments_lexer": "ipython3",
   "version": "3.9.13"
  },
  "orig_nbformat": 4,
  "vscode": {
   "interpreter": {
    "hash": "7d6993cb2f9ce9a59d5d7380609d9cb5192a9dedd2735a011418ad9e827eb538"
   }
  }
 },
 "nbformat": 4,
 "nbformat_minor": 2
}
