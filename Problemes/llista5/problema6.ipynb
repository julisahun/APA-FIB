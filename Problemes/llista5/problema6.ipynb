{
 "cells": [
  {
   "attachments": {},
   "cell_type": "markdown",
   "metadata": {},
   "source": [
    "# Problema 6: sientate recto"
   ]
  },
  {
   "attachments": {},
   "cell_type": "markdown",
   "metadata": {},
   "source": [
    "En este problema, estudiaremos unos datos medicos de ciertos pacientes, algunos tienen problemas de espalda, otros no. El objetivo será entrenar una serie de modelos para predecir si un paciente puede desarollar problemas de espalda basandose en sus datos."
   ]
  },
  {
   "cell_type": "code",
   "execution_count": 154,
   "metadata": {},
   "outputs": [],
   "source": [
    "import matplotlib.pyplot as plt\n",
    "import seaborn as sns\n",
    "import pandas as pd\n",
    "import numpy as np\n",
    "from IPython.display import display, HTML\n",
    "from sklearn.metrics import  ConfusionMatrixDisplay,\\\n",
    "                  classification_report,  RocCurveDisplay, \\\n",
    "                    accuracy_score, f1_score, precision_score, recall_score\n",
    "show_html = lambda html: display(HTML(html))\n",
    "def save_results(clf, X_test, y_test, nclf, df):\n",
    "    df.loc[nclf,'test acc'] = accuracy_score(y_test, clf.predict(X_test))\n",
    "    df.loc[nclf,'precision score (W)'] = precision_score(y_test, clf.predict(X_test), average='weighted')\n",
    "    df.loc[nclf,'recall score (W)'] = recall_score(y_test, clf.predict(X_test), average='weighted')\n",
    "    df.loc[nclf,'f1 score (W)'] = f1_score(y_test, clf.predict(X_test), average='weighted')\n",
    "    return df\n",
    "results = pd.DataFrame()"
   ]
  },
  {
   "attachments": {},
   "cell_type": "markdown",
   "metadata": {},
   "source": [
    "## Los Datos"
   ]
  },
  {
   "attachments": {},
   "cell_type": "markdown",
   "metadata": {},
   "source": [
    "Leemos los datos de APAFib"
   ]
  },
  {
   "cell_type": "code",
   "execution_count": 155,
   "metadata": {},
   "outputs": [],
   "source": [
    "import apafib\n",
    "data = apafib.load_column()"
   ]
  },
  {
   "cell_type": "code",
   "execution_count": 156,
   "metadata": {},
   "outputs": [
    {
     "data": {
      "text/html": [
       "<div>\n",
       "<style scoped>\n",
       "    .dataframe tbody tr th:only-of-type {\n",
       "        vertical-align: middle;\n",
       "    }\n",
       "\n",
       "    .dataframe tbody tr th {\n",
       "        vertical-align: top;\n",
       "    }\n",
       "\n",
       "    .dataframe thead th {\n",
       "        text-align: right;\n",
       "    }\n",
       "</style>\n",
       "<table border=\"1\" class=\"dataframe\">\n",
       "  <thead>\n",
       "    <tr style=\"text-align: right;\">\n",
       "      <th></th>\n",
       "      <th>pelvic_incidence</th>\n",
       "      <th>pelvic_tilt</th>\n",
       "      <th>lumbar_lordosis_angle</th>\n",
       "      <th>sacral_slope</th>\n",
       "      <th>pelvic_radius</th>\n",
       "      <th>degree_spondylolisthesis</th>\n",
       "      <th>class</th>\n",
       "    </tr>\n",
       "  </thead>\n",
       "  <tbody>\n",
       "    <tr>\n",
       "      <th>0</th>\n",
       "      <td>63.03</td>\n",
       "      <td>22.55</td>\n",
       "      <td>39.61</td>\n",
       "      <td>40.48</td>\n",
       "      <td>98.67</td>\n",
       "      <td>-0.25</td>\n",
       "      <td>DH</td>\n",
       "    </tr>\n",
       "    <tr>\n",
       "      <th>1</th>\n",
       "      <td>39.06</td>\n",
       "      <td>10.06</td>\n",
       "      <td>25.02</td>\n",
       "      <td>29.00</td>\n",
       "      <td>114.41</td>\n",
       "      <td>4.56</td>\n",
       "      <td>DH</td>\n",
       "    </tr>\n",
       "    <tr>\n",
       "      <th>2</th>\n",
       "      <td>68.83</td>\n",
       "      <td>22.22</td>\n",
       "      <td>50.09</td>\n",
       "      <td>46.61</td>\n",
       "      <td>105.99</td>\n",
       "      <td>-3.53</td>\n",
       "      <td>DH</td>\n",
       "    </tr>\n",
       "    <tr>\n",
       "      <th>3</th>\n",
       "      <td>69.30</td>\n",
       "      <td>24.65</td>\n",
       "      <td>44.31</td>\n",
       "      <td>44.64</td>\n",
       "      <td>101.87</td>\n",
       "      <td>11.21</td>\n",
       "      <td>DH</td>\n",
       "    </tr>\n",
       "    <tr>\n",
       "      <th>4</th>\n",
       "      <td>49.71</td>\n",
       "      <td>9.65</td>\n",
       "      <td>28.32</td>\n",
       "      <td>40.06</td>\n",
       "      <td>108.17</td>\n",
       "      <td>7.92</td>\n",
       "      <td>DH</td>\n",
       "    </tr>\n",
       "  </tbody>\n",
       "</table>\n",
       "</div>"
      ],
      "text/plain": [
       "   pelvic_incidence  pelvic_tilt  lumbar_lordosis_angle  sacral_slope  \\\n",
       "0             63.03        22.55                  39.61         40.48   \n",
       "1             39.06        10.06                  25.02         29.00   \n",
       "2             68.83        22.22                  50.09         46.61   \n",
       "3             69.30        24.65                  44.31         44.64   \n",
       "4             49.71         9.65                  28.32         40.06   \n",
       "\n",
       "   pelvic_radius  degree_spondylolisthesis class  \n",
       "0          98.67                     -0.25    DH  \n",
       "1         114.41                      4.56    DH  \n",
       "2         105.99                     -3.53    DH  \n",
       "3         101.87                     11.21    DH  \n",
       "4         108.17                      7.92    DH  "
      ]
     },
     "execution_count": 156,
     "metadata": {},
     "output_type": "execute_result"
    }
   ],
   "source": [
    "data.head()"
   ]
  },
  {
   "attachments": {},
   "cell_type": "markdown",
   "metadata": {},
   "source": [
    "Vemos que no tenemos ningun valor perdido"
   ]
  },
  {
   "cell_type": "code",
   "execution_count": 157,
   "metadata": {},
   "outputs": [
    {
     "data": {
      "text/html": [
       "<div>\n",
       "<style scoped>\n",
       "    .dataframe tbody tr th:only-of-type {\n",
       "        vertical-align: middle;\n",
       "    }\n",
       "\n",
       "    .dataframe tbody tr th {\n",
       "        vertical-align: top;\n",
       "    }\n",
       "\n",
       "    .dataframe thead th {\n",
       "        text-align: right;\n",
       "    }\n",
       "</style>\n",
       "<table border=\"1\" class=\"dataframe\">\n",
       "  <thead>\n",
       "    <tr style=\"text-align: right;\">\n",
       "      <th></th>\n",
       "      <th>count</th>\n",
       "      <th>unique</th>\n",
       "      <th>top</th>\n",
       "      <th>freq</th>\n",
       "      <th>mean</th>\n",
       "      <th>std</th>\n",
       "      <th>min</th>\n",
       "      <th>25%</th>\n",
       "      <th>50%</th>\n",
       "      <th>75%</th>\n",
       "      <th>max</th>\n",
       "    </tr>\n",
       "  </thead>\n",
       "  <tbody>\n",
       "    <tr>\n",
       "      <th>pelvic_incidence</th>\n",
       "      <td>310.0</td>\n",
       "      <td>NaN</td>\n",
       "      <td>NaN</td>\n",
       "      <td>NaN</td>\n",
       "      <td>60.496484</td>\n",
       "      <td>17.236109</td>\n",
       "      <td>26.15</td>\n",
       "      <td>46.4325</td>\n",
       "      <td>58.69</td>\n",
       "      <td>72.88</td>\n",
       "      <td>129.83</td>\n",
       "    </tr>\n",
       "    <tr>\n",
       "      <th>pelvic_tilt</th>\n",
       "      <td>310.0</td>\n",
       "      <td>NaN</td>\n",
       "      <td>NaN</td>\n",
       "      <td>NaN</td>\n",
       "      <td>17.542903</td>\n",
       "      <td>10.00814</td>\n",
       "      <td>-6.55</td>\n",
       "      <td>10.6675</td>\n",
       "      <td>16.36</td>\n",
       "      <td>22.12</td>\n",
       "      <td>49.43</td>\n",
       "    </tr>\n",
       "    <tr>\n",
       "      <th>lumbar_lordosis_angle</th>\n",
       "      <td>310.0</td>\n",
       "      <td>NaN</td>\n",
       "      <td>NaN</td>\n",
       "      <td>NaN</td>\n",
       "      <td>51.93071</td>\n",
       "      <td>18.553766</td>\n",
       "      <td>14.0</td>\n",
       "      <td>37.0</td>\n",
       "      <td>49.565</td>\n",
       "      <td>63.0</td>\n",
       "      <td>125.74</td>\n",
       "    </tr>\n",
       "    <tr>\n",
       "      <th>sacral_slope</th>\n",
       "      <td>310.0</td>\n",
       "      <td>NaN</td>\n",
       "      <td>NaN</td>\n",
       "      <td>NaN</td>\n",
       "      <td>42.953871</td>\n",
       "      <td>13.422748</td>\n",
       "      <td>13.37</td>\n",
       "      <td>33.3475</td>\n",
       "      <td>42.405</td>\n",
       "      <td>52.6925</td>\n",
       "      <td>121.43</td>\n",
       "    </tr>\n",
       "    <tr>\n",
       "      <th>pelvic_radius</th>\n",
       "      <td>310.0</td>\n",
       "      <td>NaN</td>\n",
       "      <td>NaN</td>\n",
       "      <td>NaN</td>\n",
       "      <td>117.920548</td>\n",
       "      <td>13.317629</td>\n",
       "      <td>70.08</td>\n",
       "      <td>110.71</td>\n",
       "      <td>118.265</td>\n",
       "      <td>125.4675</td>\n",
       "      <td>163.07</td>\n",
       "    </tr>\n",
       "    <tr>\n",
       "      <th>degree_spondylolisthesis</th>\n",
       "      <td>310.0</td>\n",
       "      <td>NaN</td>\n",
       "      <td>NaN</td>\n",
       "      <td>NaN</td>\n",
       "      <td>26.296742</td>\n",
       "      <td>37.558883</td>\n",
       "      <td>-11.06</td>\n",
       "      <td>1.6</td>\n",
       "      <td>11.765</td>\n",
       "      <td>41.285</td>\n",
       "      <td>418.54</td>\n",
       "    </tr>\n",
       "    <tr>\n",
       "      <th>class</th>\n",
       "      <td>310</td>\n",
       "      <td>3</td>\n",
       "      <td>SL</td>\n",
       "      <td>150</td>\n",
       "      <td>NaN</td>\n",
       "      <td>NaN</td>\n",
       "      <td>NaN</td>\n",
       "      <td>NaN</td>\n",
       "      <td>NaN</td>\n",
       "      <td>NaN</td>\n",
       "      <td>NaN</td>\n",
       "    </tr>\n",
       "  </tbody>\n",
       "</table>\n",
       "</div>"
      ],
      "text/plain": [
       "                          count unique  top freq        mean        std  \\\n",
       "pelvic_incidence          310.0    NaN  NaN  NaN   60.496484  17.236109   \n",
       "pelvic_tilt               310.0    NaN  NaN  NaN   17.542903   10.00814   \n",
       "lumbar_lordosis_angle     310.0    NaN  NaN  NaN    51.93071  18.553766   \n",
       "sacral_slope              310.0    NaN  NaN  NaN   42.953871  13.422748   \n",
       "pelvic_radius             310.0    NaN  NaN  NaN  117.920548  13.317629   \n",
       "degree_spondylolisthesis  310.0    NaN  NaN  NaN   26.296742  37.558883   \n",
       "class                       310      3   SL  150         NaN        NaN   \n",
       "\n",
       "                            min      25%      50%       75%     max  \n",
       "pelvic_incidence          26.15  46.4325    58.69     72.88  129.83  \n",
       "pelvic_tilt               -6.55  10.6675    16.36     22.12   49.43  \n",
       "lumbar_lordosis_angle      14.0     37.0   49.565      63.0  125.74  \n",
       "sacral_slope              13.37  33.3475   42.405   52.6925  121.43  \n",
       "pelvic_radius             70.08   110.71  118.265  125.4675  163.07  \n",
       "degree_spondylolisthesis -11.06      1.6   11.765    41.285  418.54  \n",
       "class                       NaN      NaN      NaN       NaN     NaN  "
      ]
     },
     "execution_count": 157,
     "metadata": {},
     "output_type": "execute_result"
    }
   ],
   "source": [
    "data.describe(include='all').T"
   ]
  },
  {
   "attachments": {},
   "cell_type": "markdown",
   "metadata": {},
   "source": [
    "Vemos que la distribución de los datos no es extraña, podriamos pensar que el valor 120 del sacral_slope es un outlier, pero como no es muy exagerado, en este estudio no se ha considerado como tal."
   ]
  },
  {
   "cell_type": "code",
   "execution_count": 158,
   "metadata": {},
   "outputs": [
    {
     "data": {
      "image/png": "[encoded data removed]",
      "text/plain": [
       "<Figure size 1000x800 with 8 Axes>"
      ]
     },
     "metadata": {},
     "output_type": "display_data"
    }
   ],
   "source": [
    "fig, axes = plt.subplots(4,2,figsize=(10,8))\n",
    "for i, c in enumerate(data.columns[:15]):\n",
    "    ax = axes.reshape(-1)[i]\n",
    "    if data[c].dtype.kind == 'O':\n",
    "        a = sns.countplot(x=c,data=data,ax=ax)\n",
    "    else:\n",
    "        b = sns.histplot(x=c,data=data,ax=ax)\n",
    "plt.tight_layout()"
   ]
  },
  {
   "attachments": {},
   "cell_type": "markdown",
   "metadata": {},
   "source": [
    "Separamos la variable a predecir de las demas"
   ]
  },
  {
   "cell_type": "code",
   "execution_count": 159,
   "metadata": {},
   "outputs": [],
   "source": [
    "X = data.drop('class',axis=1)\n",
    "y = data['class']"
   ]
  },
  {
   "attachments": {},
   "cell_type": "markdown",
   "metadata": {},
   "source": [
    "Separamos los datos en conjunto de entrenamiento y de test"
   ]
  },
  {
   "cell_type": "code",
   "execution_count": 160,
   "metadata": {},
   "outputs": [],
   "source": [
    "from sklearn.model_selection import train_test_split\n",
    "X_train, X_test, y_train, y_test = train_test_split(X, y, test_size=0.3, random_state=0)"
   ]
  },
  {
   "attachments": {},
   "cell_type": "markdown",
   "metadata": {},
   "source": [
    "Puesto que el rango de valores de las variables es dispar, normalizaremos los datos"
   ]
  },
  {
   "cell_type": "code",
   "execution_count": 161,
   "metadata": {},
   "outputs": [],
   "source": [
    "from sklearn.preprocessing import MinMaxScaler\n",
    "scaler = MinMaxScaler()\n",
    "\n",
    "X_train_s = scaler.fit_transform(X_train)\n",
    "X_test_s = scaler.transform(X_test)"
   ]
  },
  {
   "attachments": {},
   "cell_type": "markdown",
   "metadata": {},
   "source": [
    "## Modelos"
   ]
  },
  {
   "cell_type": "code",
   "execution_count": 162,
   "metadata": {},
   "outputs": [],
   "source": [
    "from sklearn.model_selection import cross_val_score\n",
    "from sklearn.model_selection import GridSearchCV"
   ]
  },
  {
   "attachments": {},
   "cell_type": "markdown",
   "metadata": {},
   "source": [
    "Empezaremos con el modelo de regresión logistica"
   ]
  },
  {
   "cell_type": "code",
   "execution_count": 163,
   "metadata": {},
   "outputs": [
    {
     "name": "stdout",
     "output_type": "stream",
     "text": [
      "0.743073593073593\n"
     ]
    }
   ],
   "source": [
    "from sklearn.linear_model import LogisticRegression\n",
    "lr = LogisticRegression(max_iter=10000)\n",
    "lr.fit(X_train_s,y_train)\n",
    "print(np.mean(cross_val_score(lr,X_train_s,y_train,cv=10)))"
   ]
  },
  {
   "attachments": {},
   "cell_type": "markdown",
   "metadata": {},
   "source": [
    "De entrada, sin explorar los hiperparametros, obtenemos un resultado bastante decente, vamos a ver si se puede mejorar cambiando los parametros por defecto"
   ]
  },
  {
   "cell_type": "code",
   "execution_count": 164,
   "metadata": {},
   "outputs": [
    {
     "data": {
      "text/html": [
       "<table border=\"1\" class=\"dataframe\">\n",
       "  <thead>\n",
       "    <tr style=\"text-align: right;\">\n",
       "      <th></th>\n",
       "      <th>params</th>\n",
       "      <th>mean_test_score</th>\n",
       "      <th>rank_test_score</th>\n",
       "    </tr>\n",
       "  </thead>\n",
       "  <tbody>\n",
       "    <tr>\n",
       "      <th>20</th>\n",
       "      <td>{'C': 1000.0, 'penalty': 'l2'}</td>\n",
       "      <td>0.871861</td>\n",
       "      <td>1</td>\n",
       "    </tr>\n",
       "    <tr>\n",
       "      <th>18</th>\n",
       "      <td>{'C': 251.18864315095772, 'penalty': 'l2'}</td>\n",
       "      <td>0.867100</td>\n",
       "      <td>2</td>\n",
       "    </tr>\n",
       "    <tr>\n",
       "      <th>17</th>\n",
       "      <td>{'C': 125.89254117941663, 'penalty': 'l2'}</td>\n",
       "      <td>0.867100</td>\n",
       "      <td>2</td>\n",
       "    </tr>\n",
       "    <tr>\n",
       "      <th>16</th>\n",
       "      <td>{'C': 63.0957344480193, 'penalty': 'l2'}</td>\n",
       "      <td>0.867100</td>\n",
       "      <td>2</td>\n",
       "    </tr>\n",
       "    <tr>\n",
       "      <th>19</th>\n",
       "      <td>{'C': 501.18723362727246, 'penalty': 'l2'}</td>\n",
       "      <td>0.862554</td>\n",
       "      <td>5</td>\n",
       "    </tr>\n",
       "  </tbody>\n",
       "</table>"
      ],
      "text/plain": [
       "<IPython.core.display.HTML object>"
      ]
     },
     "metadata": {},
     "output_type": "display_data"
    }
   ],
   "source": [
    "param = {'penalty':['l2'], 'C':10**np.linspace(-3,3,21, endpoint=True)}\n",
    "lr_gs =  GridSearchCV(lr,param,cv=10, n_jobs=-1, refit=True)\n",
    "lr_gs.fit(X_train_s, y_train)\n",
    "show_html(pd.DataFrame(lr_gs.cv_results_).loc[:,['params', 'mean_test_score','rank_test_score']].sort_values(by='rank_test_score').head().to_html())"
   ]
  },
  {
   "attachments": {},
   "cell_type": "markdown",
   "metadata": {},
   "source": [
    "Vemos que obtenemos una mejora sustancial respecto a la versión \"normal\" del modelo.\n",
    "A continuación podemos ver el informde de clasificación"
   ]
  },
  {
   "cell_type": "code",
   "execution_count": 165,
   "metadata": {},
   "outputs": [
    {
     "name": "stdout",
     "output_type": "stream",
     "text": [
      "              precision    recall  f1-score   support\n",
      "\n",
      "          DH       0.50      0.77      0.61        13\n",
      "          NO       0.83      0.71      0.77        35\n",
      "          SL       0.98      0.93      0.95        45\n",
      "\n",
      "    accuracy                           0.83        93\n",
      "   macro avg       0.77      0.81      0.78        93\n",
      "weighted avg       0.86      0.83      0.84        93\n",
      "\n"
     ]
    }
   ],
   "source": [
    "print(classification_report(lr_gs.predict(X_test_s),y_test))"
   ]
  },
  {
   "cell_type": "code",
   "execution_count": 166,
   "metadata": {},
   "outputs": [
    {
     "data": {
      "text/plain": [
       "<sklearn.metrics._plot.confusion_matrix.ConfusionMatrixDisplay at 0x7f73465ee8e0>"
      ]
     },
     "execution_count": 166,
     "metadata": {},
     "output_type": "execute_result"
    },
    {
     "data": {
      "image/png": "[encoded data removed]",
      "text/plain": [
       "<Figure size 800x800 with 2 Axes>"
      ]
     },
     "metadata": {},
     "output_type": "display_data"
    }
   ],
   "source": [
    "plt.figure(figsize=(8,8));\n",
    "ConfusionMatrixDisplay.from_estimator(lr_gs, X_test_s, y_test, ax=plt.subplot())"
   ]
  },
  {
   "cell_type": "code",
   "execution_count": 167,
   "metadata": {},
   "outputs": [],
   "source": [
    "results = save_results(lr_gs, X_test_s, y_test, 'Logistic Regression', results)"
   ]
  },
  {
   "attachments": {},
   "cell_type": "markdown",
   "metadata": {},
   "source": [
    "El siguiente modelo que veremos es el SVC tanto con su kernel polinomico tanto con su kernel RBF.\n",
    "Haremos directamente la exploración de hiperparametros."
   ]
  },
  {
   "cell_type": "code",
   "execution_count": 168,
   "metadata": {},
   "outputs": [
    {
     "data": {
      "text/html": [
       "<style>#sk-container-id-11 {color: black;background-color: white;}#sk-container-id-11 pre{padding: 0;}#sk-container-id-11 div.sk-toggleable {background-color: white;}#sk-container-id-11 label.sk-toggleable__label {cursor: pointer;display: block;width: 100%;margin-bottom: 0;padding: 0.3em;box-sizing: border-box;text-align: center;}#sk-container-id-11 label.sk-toggleable__label-arrow:before {content: \"▸\";float: left;margin-right: 0.25em;color: #696969;}#sk-container-id-11 label.sk-toggleable__label-arrow:hover:before {color: black;}#sk-container-id-11 div.sk-estimator:hover label.sk-toggleable__label-arrow:before {color: black;}#sk-container-id-11 div.sk-toggleable__content {max-height: 0;max-width: 0;overflow: hidden;text-align: left;background-color: #f0f8ff;}#sk-container-id-11 div.sk-toggleable__content pre {margin: 0.2em;color: black;border-radius: 0.25em;background-color: #f0f8ff;}#sk-container-id-11 input.sk-toggleable__control:checked~div.sk-toggleable__content {max-height: 200px;max-width: 100%;overflow: auto;}#sk-container-id-11 input.sk-toggleable__control:checked~label.sk-toggleable__label-arrow:before {content: \"▾\";}#sk-container-id-11 div.sk-estimator input.sk-toggleable__control:checked~label.sk-toggleable__label {background-color: #d4ebff;}#sk-container-id-11 div.sk-label input.sk-toggleable__control:checked~label.sk-toggleable__label {background-color: #d4ebff;}#sk-container-id-11 input.sk-hidden--visually {border: 0;clip: rect(1px 1px 1px 1px);clip: rect(1px, 1px, 1px, 1px);height: 1px;margin: -1px;overflow: hidden;padding: 0;position: absolute;width: 1px;}#sk-container-id-11 div.sk-estimator {font-family: monospace;background-color: #f0f8ff;border: 1px dotted black;border-radius: 0.25em;box-sizing: border-box;margin-bottom: 0.5em;}#sk-container-id-11 div.sk-estimator:hover {background-color: #d4ebff;}#sk-container-id-11 div.sk-parallel-item::after {content: \"\";width: 100%;border-bottom: 1px solid gray;flex-grow: 1;}#sk-container-id-11 div.sk-label:hover label.sk-toggleable__label {background-color: #d4ebff;}#sk-container-id-11 div.sk-serial::before {content: \"\";position: absolute;border-left: 1px solid gray;box-sizing: border-box;top: 0;bottom: 0;left: 50%;z-index: 0;}#sk-container-id-11 div.sk-serial {display: flex;flex-direction: column;align-items: center;background-color: white;padding-right: 0.2em;padding-left: 0.2em;position: relative;}#sk-container-id-11 div.sk-item {position: relative;z-index: 1;}#sk-container-id-11 div.sk-parallel {display: flex;align-items: stretch;justify-content: center;background-color: white;position: relative;}#sk-container-id-11 div.sk-item::before, #sk-container-id-11 div.sk-parallel-item::before {content: \"\";position: absolute;border-left: 1px solid gray;box-sizing: border-box;top: 0;bottom: 0;left: 50%;z-index: -1;}#sk-container-id-11 div.sk-parallel-item {display: flex;flex-direction: column;z-index: 1;position: relative;background-color: white;}#sk-container-id-11 div.sk-parallel-item:first-child::after {align-self: flex-end;width: 50%;}#sk-container-id-11 div.sk-parallel-item:last-child::after {align-self: flex-start;width: 50%;}#sk-container-id-11 div.sk-parallel-item:only-child::after {width: 0;}#sk-container-id-11 div.sk-dashed-wrapped {border: 1px dashed gray;margin: 0 0.4em 0.5em 0.4em;box-sizing: border-box;padding-bottom: 0.4em;background-color: white;}#sk-container-id-11 div.sk-label label {font-family: monospace;font-weight: bold;display: inline-block;line-height: 1.2em;}#sk-container-id-11 div.sk-label-container {text-align: center;}#sk-container-id-11 div.sk-container {/* jupyter's `normalize.less` sets `[hidden] { display: none; }` but bootstrap.min.css set `[hidden] { display: none !important; }` so we also need the `!important` here to be able to override the default hidden behavior on the sphinx rendered scikit-learn.org. See: https://github.com/scikit-learn/scikit-learn/issues/21755 */display: inline-block !important;position: relative;}#sk-container-id-11 div.sk-text-repr-fallback {display: none;}</style><div id=\"sk-container-id-11\" class=\"sk-top-container\"><div class=\"sk-text-repr-fallback\"><pre>GridSearchCV(cv=5,\n",
       "             estimator=SVC(max_iter=1000000, probability=True, random_state=0),\n",
       "             n_jobs=-1,\n",
       "             param_grid={&#x27;C&#x27;: array([1.00000000e-03, 1.14815362e-03, 1.31825674e-03, 1.51356125e-03,\n",
       "       1.73780083e-03, 1.99526231e-03, 2.29086765e-03, 2.63026799e-03,\n",
       "       3.01995172e-03, 3.46736850e-03, 3.98107171e-03, 4.57088190e-03,\n",
       "       5.24807460e-03, 6.02559586e-03, 6.91830971e-03, 7.94328235...\n",
       "       3.63078055e+01, 4.16869383e+01, 4.78630092e+01, 5.49540874e+01,\n",
       "       6.30957344e+01, 7.24435960e+01, 8.31763771e+01, 9.54992586e+01,\n",
       "       1.09647820e+02, 1.25892541e+02, 1.44543977e+02, 1.65958691e+02,\n",
       "       1.90546072e+02, 2.18776162e+02, 2.51188643e+02, 2.88403150e+02,\n",
       "       3.31131121e+02, 3.80189396e+02, 4.36515832e+02, 5.01187234e+02,\n",
       "       5.75439937e+02, 6.60693448e+02, 7.58577575e+02, 8.70963590e+02,\n",
       "       1.00000000e+03])})</pre><b>In a Jupyter environment, please rerun this cell to show the HTML representation or trust the notebook. <br />On GitHub, the HTML representation is unable to render, please try loading this page with nbviewer.org.</b></div><div class=\"sk-container\" hidden><div class=\"sk-item sk-dashed-wrapped\"><div class=\"sk-label-container\"><div class=\"sk-label sk-toggleable\"><input class=\"sk-toggleable__control sk-hidden--visually\" id=\"sk-estimator-id-31\" type=\"checkbox\" ><label for=\"sk-estimator-id-31\" class=\"sk-toggleable__label sk-toggleable__label-arrow\">GridSearchCV</label><div class=\"sk-toggleable__content\"><pre>GridSearchCV(cv=5,\n",
       "             estimator=SVC(max_iter=1000000, probability=True, random_state=0),\n",
       "             n_jobs=-1,\n",
       "             param_grid={&#x27;C&#x27;: array([1.00000000e-03, 1.14815362e-03, 1.31825674e-03, 1.51356125e-03,\n",
       "       1.73780083e-03, 1.99526231e-03, 2.29086765e-03, 2.63026799e-03,\n",
       "       3.01995172e-03, 3.46736850e-03, 3.98107171e-03, 4.57088190e-03,\n",
       "       5.24807460e-03, 6.02559586e-03, 6.91830971e-03, 7.94328235...\n",
       "       3.63078055e+01, 4.16869383e+01, 4.78630092e+01, 5.49540874e+01,\n",
       "       6.30957344e+01, 7.24435960e+01, 8.31763771e+01, 9.54992586e+01,\n",
       "       1.09647820e+02, 1.25892541e+02, 1.44543977e+02, 1.65958691e+02,\n",
       "       1.90546072e+02, 2.18776162e+02, 2.51188643e+02, 2.88403150e+02,\n",
       "       3.31131121e+02, 3.80189396e+02, 4.36515832e+02, 5.01187234e+02,\n",
       "       5.75439937e+02, 6.60693448e+02, 7.58577575e+02, 8.70963590e+02,\n",
       "       1.00000000e+03])})</pre></div></div></div><div class=\"sk-parallel\"><div class=\"sk-parallel-item\"><div class=\"sk-item\"><div class=\"sk-label-container\"><div class=\"sk-label sk-toggleable\"><input class=\"sk-toggleable__control sk-hidden--visually\" id=\"sk-estimator-id-32\" type=\"checkbox\" ><label for=\"sk-estimator-id-32\" class=\"sk-toggleable__label sk-toggleable__label-arrow\">estimator: SVC</label><div class=\"sk-toggleable__content\"><pre>SVC(max_iter=1000000, probability=True, random_state=0)</pre></div></div></div><div class=\"sk-serial\"><div class=\"sk-item\"><div class=\"sk-estimator sk-toggleable\"><input class=\"sk-toggleable__control sk-hidden--visually\" id=\"sk-estimator-id-33\" type=\"checkbox\" ><label for=\"sk-estimator-id-33\" class=\"sk-toggleable__label sk-toggleable__label-arrow\">SVC</label><div class=\"sk-toggleable__content\"><pre>SVC(max_iter=1000000, probability=True, random_state=0)</pre></div></div></div></div></div></div></div></div></div></div>"
      ],
      "text/plain": [
       "GridSearchCV(cv=5,\n",
       "             estimator=SVC(max_iter=1000000, probability=True, random_state=0),\n",
       "             n_jobs=-1,\n",
       "             param_grid={'C': array([1.00000000e-03, 1.14815362e-03, 1.31825674e-03, 1.51356125e-03,\n",
       "       1.73780083e-03, 1.99526231e-03, 2.29086765e-03, 2.63026799e-03,\n",
       "       3.01995172e-03, 3.46736850e-03, 3.98107171e-03, 4.57088190e-03,\n",
       "       5.24807460e-03, 6.02559586e-03, 6.91830971e-03, 7.94328235...\n",
       "       3.63078055e+01, 4.16869383e+01, 4.78630092e+01, 5.49540874e+01,\n",
       "       6.30957344e+01, 7.24435960e+01, 8.31763771e+01, 9.54992586e+01,\n",
       "       1.09647820e+02, 1.25892541e+02, 1.44543977e+02, 1.65958691e+02,\n",
       "       1.90546072e+02, 2.18776162e+02, 2.51188643e+02, 2.88403150e+02,\n",
       "       3.31131121e+02, 3.80189396e+02, 4.36515832e+02, 5.01187234e+02,\n",
       "       5.75439937e+02, 6.60693448e+02, 7.58577575e+02, 8.70963590e+02,\n",
       "       1.00000000e+03])})"
      ]
     },
     "execution_count": 168,
     "metadata": {},
     "output_type": "execute_result"
    }
   ],
   "source": [
    "from sklearn.svm import SVC\n",
    "param = {'C':10**np.linspace(-3,3,101)}\n",
    "\n",
    "psvc = SVC(kernel='poly', max_iter=1000000, random_state=0, probability=True)\n",
    "psvc_gs = GridSearchCV(psvc,param,cv=5, n_jobs=-1, refit=True)\n",
    "psvc_gs.fit(X_train_s, y_train)\n",
    "\n",
    "rsvc = SVC(kernel='rbf', max_iter=1000000, random_state=0, probability=True)\n",
    "rsvc_gs = GridSearchCV(rsvc,param,cv=5, n_jobs=-1, refit=True)\n",
    "rsvc_gs.fit(X_train_s, y_train)"
   ]
  },
  {
   "cell_type": "code",
   "execution_count": 169,
   "metadata": {},
   "outputs": [
    {
     "data": {
      "text/html": [
       "<table border=\"1\" class=\"dataframe\">\n",
       "  <thead>\n",
       "    <tr style=\"text-align: right;\">\n",
       "      <th></th>\n",
       "      <th>params</th>\n",
       "      <th>mean_test_score</th>\n",
       "      <th>rank_test_score</th>\n",
       "    </tr>\n",
       "  </thead>\n",
       "  <tbody>\n",
       "    <tr>\n",
       "      <th>56</th>\n",
       "      <td>{'C': 2.2908676527677723}</td>\n",
       "      <td>0.889746</td>\n",
       "      <td>1</td>\n",
       "    </tr>\n",
       "    <tr>\n",
       "      <th>55</th>\n",
       "      <td>{'C': 1.9952623149688788}</td>\n",
       "      <td>0.889641</td>\n",
       "      <td>2</td>\n",
       "    </tr>\n",
       "    <tr>\n",
       "      <th>58</th>\n",
       "      <td>{'C': 3.019951720402016}</td>\n",
       "      <td>0.884989</td>\n",
       "      <td>3</td>\n",
       "    </tr>\n",
       "    <tr>\n",
       "      <th>51</th>\n",
       "      <td>{'C': 1.1481536214968828}</td>\n",
       "      <td>0.880444</td>\n",
       "      <td>4</td>\n",
       "    </tr>\n",
       "    <tr>\n",
       "      <th>54</th>\n",
       "      <td>{'C': 1.7378008287493745}</td>\n",
       "      <td>0.880444</td>\n",
       "      <td>4</td>\n",
       "    </tr>\n",
       "  </tbody>\n",
       "</table>"
      ],
      "text/plain": [
       "<IPython.core.display.HTML object>"
      ]
     },
     "metadata": {},
     "output_type": "display_data"
    },
    {
     "data": {
      "text/html": [
       "<table border=\"1\" class=\"dataframe\">\n",
       "  <thead>\n",
       "    <tr style=\"text-align: right;\">\n",
       "      <th></th>\n",
       "      <th>params</th>\n",
       "      <th>mean_test_score</th>\n",
       "      <th>rank_test_score</th>\n",
       "    </tr>\n",
       "  </thead>\n",
       "  <tbody>\n",
       "    <tr>\n",
       "      <th>62</th>\n",
       "      <td>{'C': 5.248074602497723}</td>\n",
       "      <td>0.871247</td>\n",
       "      <td>1</td>\n",
       "    </tr>\n",
       "    <tr>\n",
       "      <th>64</th>\n",
       "      <td>{'C': 6.918309709189363}</td>\n",
       "      <td>0.871247</td>\n",
       "      <td>1</td>\n",
       "    </tr>\n",
       "    <tr>\n",
       "      <th>66</th>\n",
       "      <td>{'C': 9.120108393559097}</td>\n",
       "      <td>0.866702</td>\n",
       "      <td>3</td>\n",
       "    </tr>\n",
       "    <tr>\n",
       "      <th>63</th>\n",
       "      <td>{'C': 6.025595860743575}</td>\n",
       "      <td>0.866596</td>\n",
       "      <td>4</td>\n",
       "    </tr>\n",
       "    <tr>\n",
       "      <th>69</th>\n",
       "      <td>{'C': 13.803842646028839}</td>\n",
       "      <td>0.862156</td>\n",
       "      <td>5</td>\n",
       "    </tr>\n",
       "  </tbody>\n",
       "</table>"
      ],
      "text/plain": [
       "<IPython.core.display.HTML object>"
      ]
     },
     "metadata": {},
     "output_type": "display_data"
    }
   ],
   "source": [
    "show_html(pd.DataFrame(psvc_gs.cv_results_).loc[:,['params', 'mean_test_score','rank_test_score']].sort_values(by='rank_test_score').head().to_html())\n",
    "show_html(pd.DataFrame(rsvc_gs.cv_results_).loc[:,['params', 'mean_test_score','rank_test_score']].sort_values(by='rank_test_score').head().to_html())"
   ]
  },
  {
   "attachments": {},
   "cell_type": "markdown",
   "metadata": {},
   "source": [
    "Vemos que los dos modelos son muy muy parecidos, veamos el reporte de clasificación a ver si sacamos algo mas en claro"
   ]
  },
  {
   "cell_type": "code",
   "execution_count": 170,
   "metadata": {},
   "outputs": [
    {
     "name": "stdout",
     "output_type": "stream",
     "text": [
      "---------------------------Polynomial Kernel---------------------------\n",
      "              precision    recall  f1-score   support\n",
      "\n",
      "          DH       0.50      0.59      0.54        17\n",
      "          NO       0.70      0.68      0.69        31\n",
      "          SL       0.98      0.93      0.95        45\n",
      "\n",
      "    accuracy                           0.78        93\n",
      "   macro avg       0.73      0.73      0.73        93\n",
      "weighted avg       0.80      0.78      0.79        93\n",
      "\n",
      "\n",
      "-----------------------------Radial Kernel-----------------------------\n",
      "              precision    recall  f1-score   support\n",
      "\n",
      "          DH       0.55      0.58      0.56        19\n",
      "          NO       0.70      0.68      0.69        31\n",
      "          SL       0.95      0.95      0.95        43\n",
      "\n",
      "    accuracy                           0.78        93\n",
      "   macro avg       0.73      0.74      0.74        93\n",
      "weighted avg       0.79      0.78      0.79        93\n",
      "\n"
     ]
    }
   ],
   "source": [
    "print(\"---------------------------Polynomial Kernel---------------------------\")\n",
    "print(classification_report(psvc_gs.predict(X_test_s), y_test))\n",
    "print()\n",
    "print(\"-----------------------------Radial Kernel-----------------------------\")\n",
    "print(classification_report(rsvc_gs.predict(X_test_s), y_test))"
   ]
  },
  {
   "attachments": {},
   "cell_type": "markdown",
   "metadata": {},
   "source": [
    "Vemos que los reportes de clasificación son tambien muy parecidos. Nos damos cuenta que los dos modelos se sobreajustan ligeramente a los datos de entrenamiento, puesto que ambos obtienen puntuaciones ligeramente inferiores cuando se evaluan con los datos de test respecto a sus puntaciones con los datos de entrenamiento"
   ]
  },
  {
   "attachments": {},
   "cell_type": "markdown",
   "metadata": {},
   "source": [
    "Dicho esto, nos quedaremos con el modelo RBF ya que obtiene resultados ligeramente mejores en algunos de los campos."
   ]
  },
  {
   "cell_type": "code",
   "execution_count": 171,
   "metadata": {},
   "outputs": [],
   "source": [
    "results = save_results(psvc_gs, X_test_s, y_test, 'RBF SVC', results)"
   ]
  },
  {
   "attachments": {},
   "cell_type": "markdown",
   "metadata": {},
   "source": [
    "Vamos a comparar el modelo RBF de SVC con el entrenado anteriormente, el de regresión logistica"
   ]
  },
  {
   "cell_type": "code",
   "execution_count": 172,
   "metadata": {},
   "outputs": [
    {
     "data": {
      "image/png": "[encoded data removed]",
      "text/plain": [
       "<Figure size 1500x500 with 4 Axes>"
      ]
     },
     "metadata": {},
     "output_type": "display_data"
    }
   ],
   "source": [
    "fig, axes = plt.subplots(1,2,figsize=(15,5))\n",
    "ax = axes.reshape(-1)[0]\n",
    "ax.title.set_text('RBF SVC')\n",
    "ConfusionMatrixDisplay.from_estimator(rsvc_gs, X_test_s, y_test, ax=ax)\n",
    "ax = axes.reshape(-1)[1]\n",
    "ax.title.set_text('Logistic Regression')\n",
    "ConfusionMatrixDisplay.from_estimator(lr_gs, X_test_s, y_test, ax=ax)\n",
    "plt.tight_layout()"
   ]
  },
  {
   "attachments": {},
   "cell_type": "markdown",
   "metadata": {},
   "source": [
    "Comparando las matrices de confusión, vemos que, mas o menos, los dos modelos confunden los mismo ejemplos de clase. Nos damos cuenta también que el modelo de regresión logistica, suele acertar alun ejemplo mas."
   ]
  },
  {
   "cell_type": "code",
   "execution_count": 173,
   "metadata": {},
   "outputs": [
    {
     "data": {
      "text/html": [
       "<div>\n",
       "<style scoped>\n",
       "    .dataframe tbody tr th:only-of-type {\n",
       "        vertical-align: middle;\n",
       "    }\n",
       "\n",
       "    .dataframe tbody tr th {\n",
       "        vertical-align: top;\n",
       "    }\n",
       "\n",
       "    .dataframe thead th {\n",
       "        text-align: right;\n",
       "    }\n",
       "</style>\n",
       "<table border=\"1\" class=\"dataframe\">\n",
       "  <thead>\n",
       "    <tr style=\"text-align: right;\">\n",
       "      <th></th>\n",
       "      <th>test acc</th>\n",
       "      <th>precision score (W)</th>\n",
       "      <th>recall score (W)</th>\n",
       "      <th>f1 score (W)</th>\n",
       "    </tr>\n",
       "  </thead>\n",
       "  <tbody>\n",
       "    <tr>\n",
       "      <th>Logistic Regression</th>\n",
       "      <td>0.827957</td>\n",
       "      <td>0.827382</td>\n",
       "      <td>0.827957</td>\n",
       "      <td>0.819824</td>\n",
       "    </tr>\n",
       "    <tr>\n",
       "      <th>RBF SVC</th>\n",
       "      <td>0.784946</td>\n",
       "      <td>0.776566</td>\n",
       "      <td>0.784946</td>\n",
       "      <td>0.779699</td>\n",
       "    </tr>\n",
       "  </tbody>\n",
       "</table>\n",
       "</div>"
      ],
      "text/plain": [
       "                     test acc  precision score (W)  recall score (W)  \\\n",
       "Logistic Regression  0.827957             0.827382          0.827957   \n",
       "RBF SVC              0.784946             0.776566          0.784946   \n",
       "\n",
       "                     f1 score (W)  \n",
       "Logistic Regression      0.819824  \n",
       "RBF SVC                  0.779699  "
      ]
     },
     "execution_count": 173,
     "metadata": {},
     "output_type": "execute_result"
    }
   ],
   "source": [
    "results.sort_values(by=['test acc'], ascending=False)"
   ]
  },
  {
   "cell_type": "code",
   "execution_count": 174,
   "metadata": {},
   "outputs": [],
   "source": [
    "from sklearn.ensemble import RandomForestClassifier, GradientBoostingClassifier\n",
    "from skopt import BayesSearchCV"
   ]
  },
  {
   "attachments": {},
   "cell_type": "markdown",
   "metadata": {},
   "source": [
    "Vamos a comparar ahora los modelos de RandomForest y de GradientBoosting a ver como se desempeñan en la tarea:"
   ]
  },
  {
   "cell_type": "code",
   "execution_count": 192,
   "metadata": {},
   "outputs": [
    {
     "data": {
      "text/html": [
       "<style>#sk-container-id-13 {color: black;background-color: white;}#sk-container-id-13 pre{padding: 0;}#sk-container-id-13 div.sk-toggleable {background-color: white;}#sk-container-id-13 label.sk-toggleable__label {cursor: pointer;display: block;width: 100%;margin-bottom: 0;padding: 0.3em;box-sizing: border-box;text-align: center;}#sk-container-id-13 label.sk-toggleable__label-arrow:before {content: \"▸\";float: left;margin-right: 0.25em;color: #696969;}#sk-container-id-13 label.sk-toggleable__label-arrow:hover:before {color: black;}#sk-container-id-13 div.sk-estimator:hover label.sk-toggleable__label-arrow:before {color: black;}#sk-container-id-13 div.sk-toggleable__content {max-height: 0;max-width: 0;overflow: hidden;text-align: left;background-color: #f0f8ff;}#sk-container-id-13 div.sk-toggleable__content pre {margin: 0.2em;color: black;border-radius: 0.25em;background-color: #f0f8ff;}#sk-container-id-13 input.sk-toggleable__control:checked~div.sk-toggleable__content {max-height: 200px;max-width: 100%;overflow: auto;}#sk-container-id-13 input.sk-toggleable__control:checked~label.sk-toggleable__label-arrow:before {content: \"▾\";}#sk-container-id-13 div.sk-estimator input.sk-toggleable__control:checked~label.sk-toggleable__label {background-color: #d4ebff;}#sk-container-id-13 div.sk-label input.sk-toggleable__control:checked~label.sk-toggleable__label {background-color: #d4ebff;}#sk-container-id-13 input.sk-hidden--visually {border: 0;clip: rect(1px 1px 1px 1px);clip: rect(1px, 1px, 1px, 1px);height: 1px;margin: -1px;overflow: hidden;padding: 0;position: absolute;width: 1px;}#sk-container-id-13 div.sk-estimator {font-family: monospace;background-color: #f0f8ff;border: 1px dotted black;border-radius: 0.25em;box-sizing: border-box;margin-bottom: 0.5em;}#sk-container-id-13 div.sk-estimator:hover {background-color: #d4ebff;}#sk-container-id-13 div.sk-parallel-item::after {content: \"\";width: 100%;border-bottom: 1px solid gray;flex-grow: 1;}#sk-container-id-13 div.sk-label:hover label.sk-toggleable__label {background-color: #d4ebff;}#sk-container-id-13 div.sk-serial::before {content: \"\";position: absolute;border-left: 1px solid gray;box-sizing: border-box;top: 0;bottom: 0;left: 50%;z-index: 0;}#sk-container-id-13 div.sk-serial {display: flex;flex-direction: column;align-items: center;background-color: white;padding-right: 0.2em;padding-left: 0.2em;position: relative;}#sk-container-id-13 div.sk-item {position: relative;z-index: 1;}#sk-container-id-13 div.sk-parallel {display: flex;align-items: stretch;justify-content: center;background-color: white;position: relative;}#sk-container-id-13 div.sk-item::before, #sk-container-id-13 div.sk-parallel-item::before {content: \"\";position: absolute;border-left: 1px solid gray;box-sizing: border-box;top: 0;bottom: 0;left: 50%;z-index: -1;}#sk-container-id-13 div.sk-parallel-item {display: flex;flex-direction: column;z-index: 1;position: relative;background-color: white;}#sk-container-id-13 div.sk-parallel-item:first-child::after {align-self: flex-end;width: 50%;}#sk-container-id-13 div.sk-parallel-item:last-child::after {align-self: flex-start;width: 50%;}#sk-container-id-13 div.sk-parallel-item:only-child::after {width: 0;}#sk-container-id-13 div.sk-dashed-wrapped {border: 1px dashed gray;margin: 0 0.4em 0.5em 0.4em;box-sizing: border-box;padding-bottom: 0.4em;background-color: white;}#sk-container-id-13 div.sk-label label {font-family: monospace;font-weight: bold;display: inline-block;line-height: 1.2em;}#sk-container-id-13 div.sk-label-container {text-align: center;}#sk-container-id-13 div.sk-container {/* jupyter's `normalize.less` sets `[hidden] { display: none; }` but bootstrap.min.css set `[hidden] { display: none !important; }` so we also need the `!important` here to be able to override the default hidden behavior on the sphinx rendered scikit-learn.org. See: https://github.com/scikit-learn/scikit-learn/issues/21755 */display: inline-block !important;position: relative;}#sk-container-id-13 div.sk-text-repr-fallback {display: none;}</style><div id=\"sk-container-id-13\" class=\"sk-top-container\"><div class=\"sk-text-repr-fallback\"><pre>BayesSearchCV(cv=5,\n",
       "              estimator=RandomForestClassifier(random_state=0, warm_start=True),\n",
       "              n_iter=15, n_jobs=-1, random_state=0,\n",
       "              search_spaces={&#x27;max_features&#x27;: [1, 2, 32],\n",
       "                             &#x27;min_samples_leaf&#x27;: [2, 4, 32],\n",
       "                             &#x27;min_samples_split&#x27;: [2, 4, 32],\n",
       "                             &#x27;n_estimators&#x27;: [10, 100, 200]})</pre><b>In a Jupyter environment, please rerun this cell to show the HTML representation or trust the notebook. <br />On GitHub, the HTML representation is unable to render, please try loading this page with nbviewer.org.</b></div><div class=\"sk-container\" hidden><div class=\"sk-item sk-dashed-wrapped\"><div class=\"sk-label-container\"><div class=\"sk-label sk-toggleable\"><input class=\"sk-toggleable__control sk-hidden--visually\" id=\"sk-estimator-id-37\" type=\"checkbox\" ><label for=\"sk-estimator-id-37\" class=\"sk-toggleable__label sk-toggleable__label-arrow\">BayesSearchCV</label><div class=\"sk-toggleable__content\"><pre>BayesSearchCV(cv=5,\n",
       "              estimator=RandomForestClassifier(random_state=0, warm_start=True),\n",
       "              n_iter=15, n_jobs=-1, random_state=0,\n",
       "              search_spaces={&#x27;max_features&#x27;: [1, 2, 32],\n",
       "                             &#x27;min_samples_leaf&#x27;: [2, 4, 32],\n",
       "                             &#x27;min_samples_split&#x27;: [2, 4, 32],\n",
       "                             &#x27;n_estimators&#x27;: [10, 100, 200]})</pre></div></div></div><div class=\"sk-parallel\"><div class=\"sk-parallel-item\"><div class=\"sk-item\"><div class=\"sk-label-container\"><div class=\"sk-label sk-toggleable\"><input class=\"sk-toggleable__control sk-hidden--visually\" id=\"sk-estimator-id-38\" type=\"checkbox\" ><label for=\"sk-estimator-id-38\" class=\"sk-toggleable__label sk-toggleable__label-arrow\">estimator: RandomForestClassifier</label><div class=\"sk-toggleable__content\"><pre>RandomForestClassifier(random_state=0, warm_start=True)</pre></div></div></div><div class=\"sk-serial\"><div class=\"sk-item\"><div class=\"sk-estimator sk-toggleable\"><input class=\"sk-toggleable__control sk-hidden--visually\" id=\"sk-estimator-id-39\" type=\"checkbox\" ><label for=\"sk-estimator-id-39\" class=\"sk-toggleable__label sk-toggleable__label-arrow\">RandomForestClassifier</label><div class=\"sk-toggleable__content\"><pre>RandomForestClassifier(random_state=0, warm_start=True)</pre></div></div></div></div></div></div></div></div></div></div>"
      ],
      "text/plain": [
       "BayesSearchCV(cv=5,\n",
       "              estimator=RandomForestClassifier(random_state=0, warm_start=True),\n",
       "              n_iter=15, n_jobs=-1, random_state=0,\n",
       "              search_spaces={'max_features': [1, 2, 32],\n",
       "                             'min_samples_leaf': [2, 4, 32],\n",
       "                             'min_samples_split': [2, 4, 32],\n",
       "                             'n_estimators': [10, 100, 200]})"
      ]
     },
     "execution_count": 192,
     "metadata": {},
     "output_type": "execute_result"
    }
   ],
   "source": [
    "param = {'n_estimators':[10,100, 200],\n",
    "         'min_samples_split': [2,4,32],\n",
    "         'min_samples_leaf': [2,4,32],\n",
    "         'max_features': [1,2,32]\n",
    "         }\n",
    "\n",
    "rf=RandomForestClassifier(warm_start=True, random_state=0)\n",
    "rf_bs =  BayesSearchCV(rf,param,n_iter=15, cv=5, n_jobs=-1, refit=True, random_state=0)\n",
    "rf_bs.fit(X_train_s, y_train)"
   ]
  },
  {
   "cell_type": "code",
   "execution_count": 191,
   "metadata": {},
   "outputs": [],
   "source": [
    "param = {'n_estimators': [5,10,25,40, 50, 75,100, 200], \n",
    "         'criterion':['friedman_mse', 'squared_error'], \n",
    "         'max_depth':[None, 1, 2, 3,  5,  8, 9,10,15],\n",
    "         'min_samples_leaf':[1,2,3,5,10], \n",
    "         'learning_rate':[0.1,0.5, 1,3, 5, 10, 15]}\n",
    "\n",
    "gb =  GradientBoostingClassifier(random_state=0,n_iter_no_change=5)\n",
    "gb_bs =  BayesSearchCV(gb,param,n_iter=15, cv=5, n_jobs=-1, refit=True, random_state=0)\n",
    "gb_bs.fit(X_train_s, y_train);"
   ]
  },
  {
   "cell_type": "code",
   "execution_count": 177,
   "metadata": {},
   "outputs": [
    {
     "name": "stdout",
     "output_type": "stream",
     "text": [
      "---------------------------Random Forest---------------------------\n"
     ]
    },
    {
     "data": {
      "text/html": [
       "<table border=\"1\" class=\"dataframe\">\n",
       "  <thead>\n",
       "    <tr style=\"text-align: right;\">\n",
       "      <th></th>\n",
       "      <th>params</th>\n",
       "      <th>mean_test_score</th>\n",
       "      <th>rank_test_score</th>\n",
       "    </tr>\n",
       "  </thead>\n",
       "  <tbody>\n",
       "    <tr>\n",
       "      <th>12</th>\n",
       "      <td>{'max_features': 32, 'min_samples_leaf': 4, 'min_samples_split': 2, 'n_estimators': 100}</td>\n",
       "      <td>0.871142</td>\n",
       "      <td>1</td>\n",
       "    </tr>\n",
       "    <tr>\n",
       "      <th>14</th>\n",
       "      <td>{'max_features': 32, 'min_samples_leaf': 4, 'min_samples_split': 4, 'n_estimators': 100}</td>\n",
       "      <td>0.871142</td>\n",
       "      <td>1</td>\n",
       "    </tr>\n",
       "    <tr>\n",
       "      <th>0</th>\n",
       "      <td>{'max_features': 2, 'min_samples_leaf': 4, 'min_samples_split': 4, 'n_estimators': 100}</td>\n",
       "      <td>0.861945</td>\n",
       "      <td>3</td>\n",
       "    </tr>\n",
       "    <tr>\n",
       "      <th>9</th>\n",
       "      <td>{'max_features': 2, 'min_samples_leaf': 4, 'min_samples_split': 4, 'n_estimators': 200}</td>\n",
       "      <td>0.848097</td>\n",
       "      <td>4</td>\n",
       "    </tr>\n",
       "    <tr>\n",
       "      <th>2</th>\n",
       "      <td>{'max_features': 2, 'min_samples_leaf': 2, 'min_samples_split': 4, 'n_estimators': 10}</td>\n",
       "      <td>0.843552</td>\n",
       "      <td>5</td>\n",
       "    </tr>\n",
       "  </tbody>\n",
       "</table>"
      ],
      "text/plain": [
       "<IPython.core.display.HTML object>"
      ]
     },
     "metadata": {},
     "output_type": "display_data"
    },
    {
     "name": "stdout",
     "output_type": "stream",
     "text": [
      "              precision    recall  f1-score   support\n",
      "\n",
      "          DH       0.50      0.71      0.59        14\n",
      "          NO       0.80      0.69      0.74        35\n",
      "          SL       0.95      0.93      0.94        44\n",
      "\n",
      "    accuracy                           0.81        93\n",
      "   macro avg       0.75      0.78      0.76        93\n",
      "weighted avg       0.83      0.81      0.81        93\n",
      "\n",
      "\n",
      "-----------------------------Gradient Boosting-----------------------------\n"
     ]
    },
    {
     "data": {
      "text/html": [
       "<table border=\"1\" class=\"dataframe\">\n",
       "  <thead>\n",
       "    <tr style=\"text-align: right;\">\n",
       "      <th></th>\n",
       "      <th>params</th>\n",
       "      <th>mean_test_score</th>\n",
       "      <th>rank_test_score</th>\n",
       "    </tr>\n",
       "  </thead>\n",
       "  <tbody>\n",
       "    <tr>\n",
       "      <th>4</th>\n",
       "      <td>{'criterion': 'friedman_mse', 'learning_rate': 0.5, 'max_depth': 9, 'min_samples_leaf': 2, 'n_estimators': 10}</td>\n",
       "      <td>0.852748</td>\n",
       "      <td>1</td>\n",
       "    </tr>\n",
       "    <tr>\n",
       "      <th>7</th>\n",
       "      <td>{'criterion': 'squared_error', 'learning_rate': 3.0, 'max_depth': 9, 'min_samples_leaf': 1, 'n_estimators': 5}</td>\n",
       "      <td>0.843446</td>\n",
       "      <td>2</td>\n",
       "    </tr>\n",
       "    <tr>\n",
       "      <th>2</th>\n",
       "      <td>{'criterion': 'squared_error', 'learning_rate': 0.1, 'max_depth': 3, 'min_samples_leaf': 2, 'n_estimators': 25}</td>\n",
       "      <td>0.843340</td>\n",
       "      <td>3</td>\n",
       "    </tr>\n",
       "    <tr>\n",
       "      <th>12</th>\n",
       "      <td>{'criterion': 'squared_error', 'learning_rate': 0.5, 'max_depth': 3, 'min_samples_leaf': 1, 'n_estimators': 10}</td>\n",
       "      <td>0.834355</td>\n",
       "      <td>4</td>\n",
       "    </tr>\n",
       "    <tr>\n",
       "      <th>14</th>\n",
       "      <td>{'criterion': 'friedman_mse', 'learning_rate': 0.5, 'max_depth': 9, 'min_samples_leaf': 5, 'n_estimators': 10}</td>\n",
       "      <td>0.834249</td>\n",
       "      <td>5</td>\n",
       "    </tr>\n",
       "  </tbody>\n",
       "</table>"
      ],
      "text/plain": [
       "<IPython.core.display.HTML object>"
      ]
     },
     "metadata": {},
     "output_type": "display_data"
    },
    {
     "name": "stdout",
     "output_type": "stream",
     "text": [
      "              precision    recall  f1-score   support\n",
      "\n",
      "          DH       0.40      0.53      0.46        15\n",
      "          NO       0.73      0.65      0.69        34\n",
      "          SL       0.95      0.93      0.94        44\n",
      "\n",
      "    accuracy                           0.76        93\n",
      "   macro avg       0.70      0.70      0.70        93\n",
      "weighted avg       0.78      0.76      0.77        93\n",
      "\n"
     ]
    }
   ],
   "source": [
    "print(\"---------------------------Random Forest---------------------------\")\n",
    "show_html(pd.DataFrame(rf_bs.cv_results_).loc[:,['params', 'mean_test_score','rank_test_score']].sort_values(by='rank_test_score').head().to_html())\n",
    "print(classification_report(rf_bs.predict(X_test_s), y_test))\n",
    "print()\n",
    "print(\"-----------------------------Gradient Boosting-----------------------------\")\n",
    "show_html(pd.DataFrame(gb_bs.cv_results_).loc[:,['params', 'mean_test_score','rank_test_score']].sort_values(by='rank_test_score').head().to_html())\n",
    "print(classification_report(gb_bs.predict(X_test_s), y_test))"
   ]
  },
  {
   "attachments": {},
   "cell_type": "markdown",
   "metadata": {},
   "source": [
    "Vemos que los dos modelos son bastante parecidos en resultados. De la misma forma que le pasava al SVC, también se subreajustan ligeralente.\n",
    "Puesto que el RandomForest ha obtenido resultados mejores, será con el que realizaremos las siguientes pruevas."
   ]
  },
  {
   "cell_type": "code",
   "execution_count": 178,
   "metadata": {},
   "outputs": [],
   "source": [
    "results = save_results(rf_bs, X_test_s, y_test, 'Random Forest', results)"
   ]
  },
  {
   "attachments": {},
   "cell_type": "markdown",
   "metadata": {},
   "source": [
    "Primero compararemos el RanfomForest con los dos modelos anteriores, tanto con la regresion logistica, como con el SVC"
   ]
  },
  {
   "cell_type": "code",
   "execution_count": 193,
   "metadata": {},
   "outputs": [
    {
     "data": {
      "image/png": "[encoded data removed]",
      "text/plain": [
       "<Figure size 1000x1000 with 6 Axes>"
      ]
     },
     "metadata": {},
     "output_type": "display_data"
    }
   ],
   "source": [
    "fig, axes = plt.subplots(2,2,figsize=(10,10))\n",
    "ax = axes.reshape(-1)[0]\n",
    "ax.title.set_text('Random Forest')\n",
    "ConfusionMatrixDisplay.from_estimator(rf_bs, X_test_s, y_test, ax=ax)\n",
    "ax = axes.reshape(-1)[1]\n",
    "ax.title.set_text('Logsitcic Regression')\n",
    "ConfusionMatrixDisplay.from_estimator(lr_gs, X_test_s, y_test, ax=ax)\n",
    "ax = axes.reshape(-1)[2]\n",
    "ax.title.set_text('RBF SVC')\n",
    "ConfusionMatrixDisplay.from_estimator(rsvc_gs, X_test_s, y_test, ax=ax)\n",
    "ax = axes.reshape(-1)[3]\n",
    "fig.delaxes(ax)\n",
    "plt.tight_layout()"
   ]
  },
  {
   "attachments": {},
   "cell_type": "markdown",
   "metadata": {},
   "source": [
    "Vemos, otra vez, que el RandomForest tambien confunde aproximadamente los mismo ejemplos que los otros dos modelos, no obstante, vemos que este modelo es capaz de plantarle cara a la regresión logistica"
   ]
  },
  {
   "cell_type": "code",
   "execution_count": 180,
   "metadata": {},
   "outputs": [
    {
     "data": {
      "text/html": [
       "<div>\n",
       "<style scoped>\n",
       "    .dataframe tbody tr th:only-of-type {\n",
       "        vertical-align: middle;\n",
       "    }\n",
       "\n",
       "    .dataframe tbody tr th {\n",
       "        vertical-align: top;\n",
       "    }\n",
       "\n",
       "    .dataframe thead th {\n",
       "        text-align: right;\n",
       "    }\n",
       "</style>\n",
       "<table border=\"1\" class=\"dataframe\">\n",
       "  <thead>\n",
       "    <tr style=\"text-align: right;\">\n",
       "      <th></th>\n",
       "      <th>test acc</th>\n",
       "      <th>precision score (W)</th>\n",
       "      <th>recall score (W)</th>\n",
       "      <th>f1 score (W)</th>\n",
       "    </tr>\n",
       "  </thead>\n",
       "  <tbody>\n",
       "    <tr>\n",
       "      <th>Logistic Regression</th>\n",
       "      <td>0.827957</td>\n",
       "      <td>0.827382</td>\n",
       "      <td>0.827957</td>\n",
       "      <td>0.819824</td>\n",
       "    </tr>\n",
       "    <tr>\n",
       "      <th>Random Forest</th>\n",
       "      <td>0.806452</td>\n",
       "      <td>0.805649</td>\n",
       "      <td>0.806452</td>\n",
       "      <td>0.800508</td>\n",
       "    </tr>\n",
       "    <tr>\n",
       "      <th>RBF SVC</th>\n",
       "      <td>0.784946</td>\n",
       "      <td>0.776566</td>\n",
       "      <td>0.784946</td>\n",
       "      <td>0.779699</td>\n",
       "    </tr>\n",
       "  </tbody>\n",
       "</table>\n",
       "</div>"
      ],
      "text/plain": [
       "                     test acc  precision score (W)  recall score (W)  \\\n",
       "Logistic Regression  0.827957             0.827382          0.827957   \n",
       "Random Forest        0.806452             0.805649          0.806452   \n",
       "RBF SVC              0.784946             0.776566          0.784946   \n",
       "\n",
       "                     f1 score (W)  \n",
       "Logistic Regression      0.819824  \n",
       "Random Forest            0.800508  \n",
       "RBF SVC                  0.779699  "
      ]
     },
     "execution_count": 180,
     "metadata": {},
     "output_type": "execute_result"
    }
   ],
   "source": [
    "results.sort_values(by=['test acc'], ascending=False)"
   ]
  },
  {
   "attachments": {},
   "cell_type": "markdown",
   "metadata": {},
   "source": [
    "Por ultimo, vamos a intentar combinar los tres modelos mediente un sistema de votación, a ver si podemos mejorar sus resultados"
   ]
  },
  {
   "cell_type": "code",
   "execution_count": 194,
   "metadata": {},
   "outputs": [],
   "source": [
    "from sklearn.ensemble import VotingClassifier"
   ]
  },
  {
   "cell_type": "code",
   "execution_count": 181,
   "metadata": {},
   "outputs": [
    {
     "name": "stdout",
     "output_type": "stream",
     "text": [
      "0.8896405919661733\n"
     ]
    }
   ],
   "source": [
    "vs1 = VotingClassifier([('rf', rf_bs.best_estimator_),\n",
    "                        ('lr', lr_gs.best_estimator_),\n",
    "                        ('svc', rsvc_gs.best_estimator_)],voting='soft', n_jobs=-1)\n",
    "print(np.mean(cross_val_score(vs1,X_train_s,y_train,cv=5)))                             \n",
    "vs1.fit(X_train_s, y_train);   "
   ]
  },
  {
   "cell_type": "code",
   "execution_count": 182,
   "metadata": {},
   "outputs": [
    {
     "name": "stdout",
     "output_type": "stream",
     "text": [
      "              precision    recall  f1-score   support\n",
      "\n",
      "          DH       0.55      0.73      0.63        15\n",
      "          NO       0.80      0.73      0.76        33\n",
      "          SL       0.98      0.93      0.95        45\n",
      "\n",
      "    accuracy                           0.83        93\n",
      "   macro avg       0.78      0.80      0.78        93\n",
      "weighted avg       0.85      0.83      0.83        93\n",
      "\n"
     ]
    }
   ],
   "source": [
    "print(classification_report(vs1.predict(X_test_s), y_test))"
   ]
  },
  {
   "attachments": {},
   "cell_type": "markdown",
   "metadata": {},
   "source": [
    "A primera vista, con el resultado de la validación cruzada, podriamos pensar que si que hemos obtenido un resultado significativamente mejor, no obstante al mirar el informe de clasificación nos damos cuenta que este modelo tambien se ha sobre ajustado un poco a los datos de entrenamiento y que su desmenpeño real es un poco peor"
   ]
  },
  {
   "cell_type": "code",
   "execution_count": 183,
   "metadata": {},
   "outputs": [],
   "source": [
    "results = save_results(vs1, X_test_s, y_test, 'Voting Classifier', results)"
   ]
  },
  {
   "attachments": {},
   "cell_type": "markdown",
   "metadata": {},
   "source": [
    "Vamos a comparar los cuatro modelos que hemos visto: la regresión logistica, el SVC, el RandomForest y el clasificador por votación"
   ]
  },
  {
   "cell_type": "code",
   "execution_count": 184,
   "metadata": {},
   "outputs": [
    {
     "data": {
      "image/png": "[encoded data removed]",
      "text/plain": [
       "<Figure size 1000x1000 with 8 Axes>"
      ]
     },
     "metadata": {},
     "output_type": "display_data"
    }
   ],
   "source": [
    "fig, axes = plt.subplots(2,2,figsize=(10,10))\n",
    "ax = axes.reshape(-1)[0]\n",
    "ax.title.set_text('Random Forest')\n",
    "ConfusionMatrixDisplay.from_estimator(rf_bs, X_test_s, y_test, ax=ax)\n",
    "ax = axes.reshape(-1)[1]\n",
    "ax.title.set_text('Linear Regression')\n",
    "ConfusionMatrixDisplay.from_estimator(lr_gs, X_test_s, y_test, ax=ax)\n",
    "ax = axes.reshape(-1)[2]\n",
    "ax.title.set_text('RBF SVC')\n",
    "ConfusionMatrixDisplay.from_estimator(rsvc_gs, X_test_s, y_test, ax=ax)\n",
    "ax = axes.reshape(-1)[3]\n",
    "ax.title.set_text('Voting Classifier')\n",
    "ConfusionMatrixDisplay.from_estimator(vs1, X_test_s, y_test, ax=ax)\n",
    "plt.tight_layout()"
   ]
  },
  {
   "cell_type": "code",
   "execution_count": 185,
   "metadata": {},
   "outputs": [
    {
     "data": {
      "text/html": [
       "<div>\n",
       "<style scoped>\n",
       "    .dataframe tbody tr th:only-of-type {\n",
       "        vertical-align: middle;\n",
       "    }\n",
       "\n",
       "    .dataframe tbody tr th {\n",
       "        vertical-align: top;\n",
       "    }\n",
       "\n",
       "    .dataframe thead th {\n",
       "        text-align: right;\n",
       "    }\n",
       "</style>\n",
       "<table border=\"1\" class=\"dataframe\">\n",
       "  <thead>\n",
       "    <tr style=\"text-align: right;\">\n",
       "      <th></th>\n",
       "      <th>test acc</th>\n",
       "      <th>precision score (W)</th>\n",
       "      <th>recall score (W)</th>\n",
       "      <th>f1 score (W)</th>\n",
       "    </tr>\n",
       "  </thead>\n",
       "  <tbody>\n",
       "    <tr>\n",
       "      <th>Logistic Regression</th>\n",
       "      <td>0.827957</td>\n",
       "      <td>0.827382</td>\n",
       "      <td>0.827957</td>\n",
       "      <td>0.819824</td>\n",
       "    </tr>\n",
       "    <tr>\n",
       "      <th>Voting Classifier</th>\n",
       "      <td>0.827957</td>\n",
       "      <td>0.823851</td>\n",
       "      <td>0.827957</td>\n",
       "      <td>0.822301</td>\n",
       "    </tr>\n",
       "    <tr>\n",
       "      <th>Random Forest</th>\n",
       "      <td>0.806452</td>\n",
       "      <td>0.805649</td>\n",
       "      <td>0.806452</td>\n",
       "      <td>0.800508</td>\n",
       "    </tr>\n",
       "    <tr>\n",
       "      <th>RBF SVC</th>\n",
       "      <td>0.784946</td>\n",
       "      <td>0.776566</td>\n",
       "      <td>0.784946</td>\n",
       "      <td>0.779699</td>\n",
       "    </tr>\n",
       "  </tbody>\n",
       "</table>\n",
       "</div>"
      ],
      "text/plain": [
       "                     test acc  precision score (W)  recall score (W)  \\\n",
       "Logistic Regression  0.827957             0.827382          0.827957   \n",
       "Voting Classifier    0.827957             0.823851          0.827957   \n",
       "Random Forest        0.806452             0.805649          0.806452   \n",
       "RBF SVC              0.784946             0.776566          0.784946   \n",
       "\n",
       "                     f1 score (W)  \n",
       "Logistic Regression      0.819824  \n",
       "Voting Classifier        0.822301  \n",
       "Random Forest            0.800508  \n",
       "RBF SVC                  0.779699  "
      ]
     },
     "execution_count": 185,
     "metadata": {},
     "output_type": "execute_result"
    }
   ],
   "source": [
    "results.sort_values(by=['test acc'], ascending=False)"
   ]
  },
  {
   "attachments": {},
   "cell_type": "markdown",
   "metadata": {},
   "source": [
    "Vemos que de los cuatro, el mdejor es el de Regresión logistica, muy empatado con el de votación. \n",
    "Esto nos hace suponer, que en el momento de las votaciones, mas o menos todos los modelos estavan de acuerdo con las etiquetas de los ejemplos, es decir, que los 3 modelos confundian los mismos ejemplos.\n",
    "Esto se puede dever a datos erroneos, outliers o otros factores. No hay que olvidar que el campo de la medicina es un campo muy complejo y que hay diversos factores que pueden influir a las dolencias."
   ]
  }
 ],
 "metadata": {
  "kernelspec": {
   "display_name": "Python 3",
   "language": "python",
   "name": "python3"
  },
  "language_info": {
   "codemirror_mode": {
    "name": "ipython",
    "version": 3
   },
   "file_extension": ".py",
   "mimetype": "text/x-python",
   "name": "python",
   "nbconvert_exporter": "python",
   "pygments_lexer": "ipython3",
   "version": "3.9.15"
  },
  "orig_nbformat": 4,
  "vscode": {
   "interpreter": {
    "hash": "a806f75dfb18e4bb16bb70a3e91cee63e6c7858b02f38d091c897d68ed2af227"
   }
  }
 },
 "nbformat": 4,
 "nbformat_minor": 2
}
